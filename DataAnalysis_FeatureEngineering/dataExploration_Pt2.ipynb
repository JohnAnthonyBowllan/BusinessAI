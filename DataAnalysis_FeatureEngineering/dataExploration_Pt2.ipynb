{
 "cells": [
  {
   "cell_type": "code",
   "execution_count": 42,
   "metadata": {},
   "outputs": [],
   "source": [
    "import collections\n",
    "import pandas as pd \n",
    "import numpy as np\n",
    "import matplotlib as mpl\n",
    "import matplotlib.pyplot as plt\n",
    "import json  \n",
    "import networkx as nx\n",
    "import igraph as ig"
   ]
  },
  {
   "cell_type": "code",
   "execution_count": 62,
   "metadata": {},
   "outputs": [],
   "source": [
    "# load in user data \n",
    "Yelp_Users = pd.read_json('YelpDataset/user.json',lines=True)\n",
    "\n",
    "# filter out people with no friends\n",
    "Yelp_Users['number_of_friends'] = Yelp_Users['friends'].apply(len)\n",
    "df_usersNarrow = Yelp_Users[Yelp_Users['number_of_friends']>0] \n",
    "df_usersNarrow = df_usersNarrow[['user_id','friends','number_of_friends']]\n",
    "\n",
    "# load in review data\n",
    "Yelp_Reviews = pd.read_json('YelpDataset/review.json',lines=True)"
   ]
  },
  {
   "cell_type": "markdown",
   "metadata": {},
   "source": [
    "## Finding most common business ratings"
   ]
  },
  {
   "cell_type": "code",
   "execution_count": 4,
   "metadata": {},
   "outputs": [
    {
     "name": "stdout",
     "output_type": "stream",
     "text": [
      "          Users sorted by mean star rating\n"
     ]
    },
    {
     "data": {
      "text/plain": [
       "user_id\n",
       "UyeWPntJbCiivtpOkkuEcg    5.0\n",
       "VfSyvigzBvzrQtlw16LlvA    5.0\n",
       "VfQbHHo4nYGdyeY40Uo5Mg    5.0\n",
       "VfQwF3hwy0ACItuHbL3zkA    5.0\n",
       "VfRavspLv-6cbUlGgLg3BA    5.0\n",
       "VfRh4vzkk_9cM2g_leKFCg    5.0\n",
       "VfRu1Lav8qJKv0qPwzZcfw    5.0\n",
       "VfSPwGzBY0eJH-lHUV0WPw    5.0\n",
       "VfSr9zZbxhVGRRHOr2Poig    5.0\n",
       "VfSxRJUHnOddsYTNt7ohSQ    5.0\n",
       "Name: (stars, mean), dtype: float64"
      ]
     },
     "execution_count": 4,
     "metadata": {},
     "output_type": "execute_result"
    }
   ],
   "source": [
    "# distribution of mean star rating and review count\n",
    "\n",
    "user_agg=Yelp_Reviews.groupby('user_id').agg({'review_id':['count'],'date':['min','max'],\n",
    "                                'useful':['sum'],'funny':['sum'],'cool':['sum'],\n",
    "                               'stars':['mean']})\n",
    "user_agg=user_agg.sort_values([('stars','mean')],ascending=False)\n",
    "print(\"          Users sorted by mean star rating\")\n",
    "user_agg[('stars','mean')].head(10)"
   ]
  },
  {
   "cell_type": "code",
   "execution_count": 6,
   "metadata": {
    "collapsed": true
   },
   "outputs": [],
   "source": [
    "numberMeanRating = user_agg[('stars','mean')].value_counts()\n",
    "npnumberMeanRating = np.asarray(numberMeanRating)\n",
    "xArrPlot = numberMeanRating.index.tolist()"
   ]
  },
  {
   "cell_type": "code",
   "execution_count": 7,
   "metadata": {},
   "outputs": [
    {
     "data": {
      "text/plain": [
       "[5.0, 1.0, 4.0, 3.0, 2.0]"
      ]
     },
     "execution_count": 7,
     "metadata": {},
     "output_type": "execute_result"
    }
   ],
   "source": [
    "# top 5 (descending order) most frequent business ratings\n",
    "npnumberMeanRating[0:5]\n",
    "xArrPlot[0:5]"
   ]
  },
  {
   "cell_type": "code",
   "execution_count": 8,
   "metadata": {},
   "outputs": [
    {
     "data": {
      "image/png": "[encoded data removed]",
      "text/plain": [
       "<matplotlib.figure.Figure at 0x7f9b80088898>"
      ]
     },
     "metadata": {},
     "output_type": "display_data"
    }
   ],
   "source": [
    "# distribution of business ratings\n",
    "plt.scatter(xArrPlot,npnumberMeanRating)\n",
    "plt.show()"
   ]
  },
  {
   "cell_type": "markdown",
   "metadata": {},
   "source": [
    "## Looking at behavior of top Yelp users"
   ]
  },
  {
   "cell_type": "code",
   "execution_count": 10,
   "metadata": {},
   "outputs": [
    {
     "name": "stdout",
     "output_type": "stream",
     "text": [
      "          Top 10 Users in Yelp\n"
     ]
    },
    {
     "data": {
      "text/html": [
       "<div>\n",
       "<style>\n",
       "    .dataframe thead tr:only-child th {\n",
       "        text-align: right;\n",
       "    }\n",
       "\n",
       "    .dataframe thead th {\n",
       "        text-align: left;\n",
       "    }\n",
       "\n",
       "    .dataframe tbody tr th {\n",
       "        vertical-align: top;\n",
       "    }\n",
       "</style>\n",
       "<table border=\"1\" class=\"dataframe\">\n",
       "  <thead>\n",
       "    <tr>\n",
       "      <th></th>\n",
       "      <th>review_id</th>\n",
       "      <th colspan=\"2\" halign=\"left\">date</th>\n",
       "      <th>useful</th>\n",
       "      <th>funny</th>\n",
       "      <th>cool</th>\n",
       "      <th>stars</th>\n",
       "    </tr>\n",
       "    <tr>\n",
       "      <th></th>\n",
       "      <th>count</th>\n",
       "      <th>min</th>\n",
       "      <th>max</th>\n",
       "      <th>sum</th>\n",
       "      <th>sum</th>\n",
       "      <th>sum</th>\n",
       "      <th>mean</th>\n",
       "    </tr>\n",
       "    <tr>\n",
       "      <th>user_id</th>\n",
       "      <th></th>\n",
       "      <th></th>\n",
       "      <th></th>\n",
       "      <th></th>\n",
       "      <th></th>\n",
       "      <th></th>\n",
       "      <th></th>\n",
       "    </tr>\n",
       "  </thead>\n",
       "  <tbody>\n",
       "    <tr>\n",
       "      <th>CxDOIDnH8gp9KXzpBHJYXw</th>\n",
       "      <td>3569</td>\n",
       "      <td>2009-11-09</td>\n",
       "      <td>2017-12-05</td>\n",
       "      <td>11345</td>\n",
       "      <td>5546</td>\n",
       "      <td>6695</td>\n",
       "      <td>3.201737</td>\n",
       "    </tr>\n",
       "    <tr>\n",
       "      <th>bLbSNkLggFnqwNNzzq-Ijw</th>\n",
       "      <td>2077</td>\n",
       "      <td>2012-05-20</td>\n",
       "      <td>2017-12-11</td>\n",
       "      <td>23572</td>\n",
       "      <td>12630</td>\n",
       "      <td>16303</td>\n",
       "      <td>3.256139</td>\n",
       "    </tr>\n",
       "    <tr>\n",
       "      <th>PKEzKWv_FktMm2mGPjwd0Q</th>\n",
       "      <td>1611</td>\n",
       "      <td>2008-12-12</td>\n",
       "      <td>2017-12-05</td>\n",
       "      <td>12078</td>\n",
       "      <td>4987</td>\n",
       "      <td>8183</td>\n",
       "      <td>3.664804</td>\n",
       "    </tr>\n",
       "    <tr>\n",
       "      <th>DK57YibC5ShBmqQl97CKog</th>\n",
       "      <td>1463</td>\n",
       "      <td>2006-02-12</td>\n",
       "      <td>2017-12-10</td>\n",
       "      <td>13175</td>\n",
       "      <td>6693</td>\n",
       "      <td>10795</td>\n",
       "      <td>3.826384</td>\n",
       "    </tr>\n",
       "    <tr>\n",
       "      <th>QJI9OSEn6ujRCtrX06vs1w</th>\n",
       "      <td>1322</td>\n",
       "      <td>2007-03-20</td>\n",
       "      <td>2016-05-01</td>\n",
       "      <td>8748</td>\n",
       "      <td>4104</td>\n",
       "      <td>6142</td>\n",
       "      <td>3.622542</td>\n",
       "    </tr>\n",
       "    <tr>\n",
       "      <th>d_TBs6J3twMy9GChqUEXkg</th>\n",
       "      <td>1184</td>\n",
       "      <td>2010-12-27</td>\n",
       "      <td>2017-11-23</td>\n",
       "      <td>2992</td>\n",
       "      <td>1341</td>\n",
       "      <td>1792</td>\n",
       "      <td>3.463682</td>\n",
       "    </tr>\n",
       "    <tr>\n",
       "      <th>ELcQDlf69kb-ihJfxZyL0A</th>\n",
       "      <td>1159</td>\n",
       "      <td>2011-04-10</td>\n",
       "      <td>2017-12-10</td>\n",
       "      <td>2155</td>\n",
       "      <td>1298</td>\n",
       "      <td>1029</td>\n",
       "      <td>2.993097</td>\n",
       "    </tr>\n",
       "    <tr>\n",
       "      <th>cMEtAiW60I5wE_vLfTxoJQ</th>\n",
       "      <td>1126</td>\n",
       "      <td>2009-06-12</td>\n",
       "      <td>2017-12-07</td>\n",
       "      <td>1943</td>\n",
       "      <td>1213</td>\n",
       "      <td>1509</td>\n",
       "      <td>4.066607</td>\n",
       "    </tr>\n",
       "    <tr>\n",
       "      <th>hWDybu_KvYLSdEFzGrniTw</th>\n",
       "      <td>1117</td>\n",
       "      <td>2009-03-08</td>\n",
       "      <td>2017-11-26</td>\n",
       "      <td>7234</td>\n",
       "      <td>4968</td>\n",
       "      <td>5762</td>\n",
       "      <td>3.640107</td>\n",
       "    </tr>\n",
       "    <tr>\n",
       "      <th>U4INQZOPSUaj8hMjLlZ3KA</th>\n",
       "      <td>1101</td>\n",
       "      <td>2008-05-13</td>\n",
       "      <td>2017-12-11</td>\n",
       "      <td>6116</td>\n",
       "      <td>2832</td>\n",
       "      <td>4187</td>\n",
       "      <td>3.714805</td>\n",
       "    </tr>\n",
       "  </tbody>\n",
       "</table>\n",
       "</div>"
      ],
      "text/plain": [
       "                       review_id       date            useful  funny   cool  \\\n",
       "                           count        min        max    sum    sum    sum   \n",
       "user_id                                                                       \n",
       "CxDOIDnH8gp9KXzpBHJYXw      3569 2009-11-09 2017-12-05  11345   5546   6695   \n",
       "bLbSNkLggFnqwNNzzq-Ijw      2077 2012-05-20 2017-12-11  23572  12630  16303   \n",
       "PKEzKWv_FktMm2mGPjwd0Q      1611 2008-12-12 2017-12-05  12078   4987   8183   \n",
       "DK57YibC5ShBmqQl97CKog      1463 2006-02-12 2017-12-10  13175   6693  10795   \n",
       "QJI9OSEn6ujRCtrX06vs1w      1322 2007-03-20 2016-05-01   8748   4104   6142   \n",
       "d_TBs6J3twMy9GChqUEXkg      1184 2010-12-27 2017-11-23   2992   1341   1792   \n",
       "ELcQDlf69kb-ihJfxZyL0A      1159 2011-04-10 2017-12-10   2155   1298   1029   \n",
       "cMEtAiW60I5wE_vLfTxoJQ      1126 2009-06-12 2017-12-07   1943   1213   1509   \n",
       "hWDybu_KvYLSdEFzGrniTw      1117 2009-03-08 2017-11-26   7234   4968   5762   \n",
       "U4INQZOPSUaj8hMjLlZ3KA      1101 2008-05-13 2017-12-11   6116   2832   4187   \n",
       "\n",
       "                           stars  \n",
       "                            mean  \n",
       "user_id                           \n",
       "CxDOIDnH8gp9KXzpBHJYXw  3.201737  \n",
       "bLbSNkLggFnqwNNzzq-Ijw  3.256139  \n",
       "PKEzKWv_FktMm2mGPjwd0Q  3.664804  \n",
       "DK57YibC5ShBmqQl97CKog  3.826384  \n",
       "QJI9OSEn6ujRCtrX06vs1w  3.622542  \n",
       "d_TBs6J3twMy9GChqUEXkg  3.463682  \n",
       "ELcQDlf69kb-ihJfxZyL0A  2.993097  \n",
       "cMEtAiW60I5wE_vLfTxoJQ  4.066607  \n",
       "hWDybu_KvYLSdEFzGrniTw  3.640107  \n",
       "U4INQZOPSUaj8hMjLlZ3KA  3.714805  "
      ]
     },
     "execution_count": 10,
     "metadata": {},
     "output_type": "execute_result"
    }
   ],
   "source": [
    "user_agg=user_agg.sort_values([('review_id','count')],ascending=False)\n",
    "print(\"          Top 10 Users in Yelp\")\n",
    "user_agg.head(10)"
   ]
  },
  {
   "cell_type": "markdown",
   "metadata": {},
   "source": [
    "## Distribution of number of user friends"
   ]
  },
  {
   "cell_type": "code",
   "execution_count": 4,
   "metadata": {
    "collapsed": true
   },
   "outputs": [],
   "source": [
    "# get the frequencies of the number of friends and convert to numpy array\n",
    "\n",
    "numberFriends = Yelp_Users['number_of_friends'].value_counts()\n",
    "npnumberFriends = np.asarray(numberFriends)"
   ]
  },
  {
   "cell_type": "code",
   "execution_count": 5,
   "metadata": {},
   "outputs": [
    {
     "data": {
      "image/png": "[encoded data removed]",
      "text/plain": [
       "<matplotlib.figure.Figure at 0x7f05c3b59710>"
      ]
     },
     "metadata": {},
     "output_type": "display_data"
    }
   ],
   "source": [
    "# plot this frequency of number of friends distribution\n",
    "\n",
    "hist, bin_edges = np.histogram(npnumberFriends, bins = range(100))\n",
    "plt.bar(bin_edges[:-1],hist,width = 1)\n",
    "plt.xlim(min(bin_edges),max(bin_edges))\n",
    "plt.title('Distribution of the amount of friends of Yelp Users')\n",
    "plt.xlabel('Number of friends')\n",
    "plt.ylabel('Number of Yelp users')\n",
    "plt.show()"
   ]
  },
  {
   "cell_type": "code",
   "execution_count": 8,
   "metadata": {},
   "outputs": [
    {
     "name": "stdout",
     "output_type": "stream",
     "text": [
      "42.6885282494% of users have no friends on Yelp.\n",
      "57.31147175064343% of users have at least one friend.\n",
      "760008.0 users have at least one friend.\n"
     ]
    }
   ],
   "source": [
    "def percentageWithFriendsGreaterThan(threshold):\n",
    "    return len(Yelp_Users[Yelp_Users['number_of_friends']>threshold])/len(Yelp_Users['friends'])*100\n",
    "    \n",
    "def percentageWithNumberOfFriends(friends):\n",
    "    return numberFriends[friends]/len(Yelp_Users['friends'])*100\n",
    "    \n",
    "print(str(percentageWithNumberOfFriends(0))+\"% of users have no friends on Yelp.\")\n",
    "print(str(percentageWithFriendsGreaterThan(0))+\"% of users have at least one friend.\")\n",
    "print(str(percentageWithFriendsGreaterThan(0)/100 * len(Yelp_Users)) +\" users have at least one friend.\")\n"
   ]
  }
 ],
 "metadata": {
  "kernelspec": {
   "display_name": "Python 3",
   "language": "python",
   "name": "python3"
  },
  "language_info": {
   "codemirror_mode": {
    "name": "ipython",
    "version": 3
   },
   "file_extension": ".py",
   "mimetype": "text/x-python",
   "name": "python",
   "nbconvert_exporter": "python",
   "pygments_lexer": "ipython3",
   "version": "3.6.4"
  }
 },
 "nbformat": 4,
 "nbformat_minor": 2
}
