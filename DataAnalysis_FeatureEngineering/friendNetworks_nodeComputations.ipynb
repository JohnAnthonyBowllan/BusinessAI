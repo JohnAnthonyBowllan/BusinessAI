{
 "cells": [
  {
   "cell_type": "code",
   "execution_count": 1,
   "metadata": {},
   "outputs": [],
   "source": [
    "import pandas as pd \n",
    "import numpy as np\n",
    "import matplotlib as mpl\n",
    "import matplotlib.pyplot as plt\n",
    "import json  \n",
    "import networkx as nx\n",
    "import csv\n",
    "from multiprocessing import Pool"
   ]
  },
  {
   "cell_type": "markdown",
   "metadata": {},
   "source": [
    "### Prepping user and review datasets for assortativity and node neighbor computations for our friend networks"
   ]
  },
  {
   "cell_type": "code",
   "execution_count": 2,
   "metadata": {},
   "outputs": [],
   "source": [
    "# load and manipulate user data\n",
    "\n",
    "Yelp_Users = pd.read_json('YelpDataset/user.json',lines=True) # read in user dataset\n",
    "Yelp_Users['number of friends'] = Yelp_Users['friends'].apply(len) # get number of friends\n",
    "df_usersNarrow = Yelp_Users[Yelp_Users['number of friends']>0] # sifting dataset to people who have at least one friend\n",
    "df_usersNarrow = df_usersNarrow[['user_id','friends','number of friends']]"
   ]
  },
  {
   "cell_type": "code",
   "execution_count": 3,
   "metadata": {},
   "outputs": [
    {
     "name": "stderr",
     "output_type": "stream",
     "text": [
      "/opt/condaenvs/jupyterhub/lib/python3.6/site-packages/IPython/core/interactiveshell.py:2785: DtypeWarning: Columns (0,2) have mixed types. Specify dtype option on import or set low_memory=False.\n",
      "  interactivity=interactivity, compiler=compiler, result=result)\n"
     ]
    }
   ],
   "source": [
    "# load in review data with latent business categories associated to each business\n",
    "\n",
    "Yelp_ReviewsWithLatCats = pd.read_csv(\"Yelp_ReviewsWITHLATENTCATEGORIES.csv\")\n",
    "Yelp_ReviewsWithLatCats = Yelp_ReviewsWithLatCats[['business_id',\n",
    "                                                   'review_id','user_id','stars',\n",
    "                                                   'businessLatentCategory']]\n",
    "Yelp_ReviewsWithLatCats = Yelp_ReviewsWithLatCats.dropna()"
   ]
  },
  {
   "cell_type": "code",
   "execution_count": 6,
   "metadata": {},
   "outputs": [
    {
     "name": "stdout",
     "output_type": "stream",
     "text": [
      "1325415\n",
      "760008\n"
     ]
    }
   ],
   "source": [
    "# users in reviews dataset\n",
    "reviewsGroupBy = Yelp_ReviewsWithLatCats.groupby(\"user_id\")\n",
    "Reviews_setOfUserIds = set(list(reviewsGroupBy.groups.keys()))\n",
    "print(len(Reviews_setOfUserIds))\n",
    "\n",
    "# users in users dataset where users have at least one friend\n",
    "Users_setOfUserIds = set(df_usersNarrow['user_id'])\n",
    "print(len(Users_setOfUserIds)) "
   ]
  },
  {
   "cell_type": "code",
   "execution_count": 7,
   "metadata": {},
   "outputs": [],
   "source": [
    "# Only want reviews of users with at least one friend!\n",
    "Yelp_ReviewsWithLatCats = Yelp_ReviewsWithLatCats[Yelp_ReviewsWithLatCats['user_id'].isin(Users_setOfUserIds)]\n",
    "\n",
    "# group by users and business latent categories\n",
    "groupbyUSERandCAT = Yelp_ReviewsWithLatCats.groupby(['user_id','businessLatentCategory'])\n",
    "userLatentCats_List = list(groupbyUSERandCAT.groups) "
   ]
  },
  {
   "cell_type": "code",
   "execution_count": 11,
   "metadata": {},
   "outputs": [],
   "source": [
    "# Getting list of users who wrote reviews (and creating dictionary for having reviews\n",
    "# as node attributes)\n",
    "YelpReviews_Users = Yelp_ReviewsWithLatCats.groupby('user_id')\n",
    "Yelp_ReviewsUserDict = {g: d for g, d in YelpReviews_Users}\n",
    "ListOfUSERS = list(YelpReviews_Users.groups)"
   ]
  },
  {
   "cell_type": "code",
   "execution_count": 7,
   "metadata": {},
   "outputs": [],
   "source": [
    "# Reading in edge lists for larger and smaller friend networks\n",
    "BigYelp = nx.read_edgelist(\"BigYelpEdgeList.txt\")\n",
    "yelpinho = nx.read_edgelist(\"YelpinhoEdgeList.txt\")"
   ]
  },
  {
   "cell_type": "code",
   "execution_count": 77,
   "metadata": {},
   "outputs": [
    {
     "data": {
      "text/plain": [
       "0.027079046453203907"
      ]
     },
     "execution_count": 77,
     "metadata": {},
     "output_type": "execute_result"
    }
   ],
   "source": [
    "# ASSORTATIVITY BASED ON STAR AVERAGE\n",
    "\n",
    "ratingMean = Yelp_ReviewsWithLatCats.groupby(\"user_id\").agg(\"mean\")\n",
    "ratingMeanDict = dict(zip(ratingMean.index,ratingMean.stars))\n",
    "nx.set_node_attributes(yelpinho, ratingMeanDict, \"AverageStar\")\n",
    "nx.attribute_assortativity_coefficient(yelpinho,\"AverageStar\")"
   ]
  },
  {
   "cell_type": "code",
   "execution_count": 96,
   "metadata": {
    "scrolled": true
   },
   "outputs": [
    {
     "data": {
      "text/plain": [
       "0.026268943031893734"
      ]
     },
     "execution_count": 96,
     "metadata": {},
     "output_type": "execute_result"
    }
   ],
   "source": [
    "# ASSORTATIVITY BASED ON REVIEW COUNT\n",
    "\n",
    "revCountSeries = Yelp_ReviewsWithLatCats.groupby(\"user_id\").size()\n",
    "revCountSeriesDict = revCountSeries.to_dict()\n",
    "nx.set_node_attributes(yelpinho, reviewsRevCountSeriesDict, \"ReviewCount\")\n",
    "nx.attribute_assortativity_coefficient(yelpinho,\"ReviewCount\")"
   ]
  },
  {
   "cell_type": "code",
   "execution_count": 115,
   "metadata": {},
   "outputs": [
    {
     "name": "stdout",
     "output_type": "stream",
     "text": [
      "Bars assortativity: 0.02708162228366847\n",
      "Restaurants assortativity: 0.0403651435345962\n",
      "Fashion assortativity: 0.07108086867204101\n",
      "Beauty & Spas assortativity: 0.08342029331960416\n",
      "Pubs assortativity: 0.06724732150377787\n",
      "Active Life assortativity: 0.09773029468230386\n",
      "Cosmetics & Beauty Supply assortativity: 0.05674868615639566\n",
      "Home & Garden assortativity: 0.09314802793194313\n",
      "Sports Clubs assortativity: 0.07849327460664403\n",
      "Used assortativity: 0.0690736806092073\n",
      "Preschools assortativity: 0.0457145961510417\n",
      "Financial Services assortativity: 0.0531528655192846\n",
      "Hair Removal assortativity: 0.09022263489582312\n",
      "Oil Change Stations assortativity: 0.04593194437626429\n",
      "Home Cleaning assortativity: 0.06490892747692766\n"
     ]
    }
   ],
   "source": [
    "# ASSORTATIVITY BASED ON CATEGORY AVERAGE RATINGS\n",
    "\n",
    "busLatCatsList = list(Yelp_ReviewsWithLatCats['businessLatentCategory'].unique())\n",
    "\n",
    "siftedReviewDfsList = []\n",
    "siftedListDicts = []\n",
    "for latentCat in busLatCatsList:\n",
    "    siftedDf = Yelp_ReviewsWithLatCats[Yelp_ReviewsWithLatCats['businessLatentCategory'] == latentCat]\n",
    "    siftedReviewDfsList.append((latentCat,siftedDf))\n",
    "    print(latentCat)\n",
    "    SiftedAggStarMean = siftedDf.groupby(\"user_id\").agg(\"mean\")\n",
    "    SiftedAggStarMeanDict = dict(zip(SiftedAggStarMean.index,SiftedAggStarMean.stars))\n",
    "    siftedListDicts.append((latentCat,SiftedAggStarMeanDict))\n",
    "    \n",
    "    \n",
    "    SiftedRevCountSeries = siftedDf.groupby(\"user_id\").size()\n",
    "    SiftedRevCountSeriesDict = SiftedRevCountSeries.to_dict()\n",
    "    \n",
    "    \n",
    "    \n",
    "for latentCatDictTuple in siftedListDicts:\n",
    "    latentCategory = latentCatDictTuple[0]\n",
    "    localDict = latentCatDictTuple[1]\n",
    "    nx.set_node_attributes(yelpinho, localDict, latentCategory)\n",
    "\n",
    "for latCat in busLatCatsList:\n",
    "    print(latCat + \" assortativity: \"+str(nx.attribute_assortativity_coefficient(yelpinho,latCat)))"
   ]
  },
  {
   "cell_type": "markdown",
   "metadata": {},
   "source": [
    "## Now getting node degrees from yelpinho and BigYelp to compute correlation coefficients"
   ]
  },
  {
   "cell_type": "code",
   "execution_count": 47,
   "metadata": {},
   "outputs": [],
   "source": [
    "# create dictionaries with node degrees in each network \n",
    "yelpinhoDegreeDict = dict(yelpinho.degree())\n",
    "BigYelpDegreeDict = dict(BigYelp.degree())\n",
    "\n",
    "# creating dataframes with shared nodes and their degrees in each network\n",
    "dfDegrees = pd.DataFrame.from_dict(yelpinhoDegreeDict,orient = 'index',columns = ['yelpinho'])\n",
    "dfDegrees['shared_nodes'] = dfDegrees.index\n",
    "dfDegrees['BigYelp'] = dfDegrees['shared_nodes'].apply(lambda ID: BigYelpDegreeDict[ID])"
   ]
  },
  {
   "cell_type": "code",
   "execution_count": 59,
   "metadata": {},
   "outputs": [
    {
     "data": {
      "text/plain": [
       "0.8685414501447632"
      ]
     },
     "execution_count": 59,
     "metadata": {},
     "output_type": "execute_result"
    }
   ],
   "source": [
    "dfDegrees['yelpinho'].corr(dfDegrees['BigYelp'], method = 'pearson')"
   ]
  },
  {
   "cell_type": "code",
   "execution_count": 58,
   "metadata": {},
   "outputs": [
    {
     "data": {
      "text/plain": [
       "0.772002464623897"
      ]
     },
     "execution_count": 58,
     "metadata": {},
     "output_type": "execute_result"
    }
   ],
   "source": [
    "dfDegrees['yelpinho'].corr(dfDegrees['BigYelp'],method = 'spearman')"
   ]
  },
  {
   "cell_type": "markdown",
   "metadata": {},
   "source": [
    "## Neighbor (friend) computations\n",
    "- Will see if a user's friends will influence or correlate with how that user rates items (businesses)\n",
    "- I compute average ratings (each friend has equal weight) and weighted average ratings (friends that rate more are weighted more heavily than those who do not) for both general reviews and reviews about a specific business latent category"
   ]
  },
  {
   "cell_type": "code",
   "execution_count": 28,
   "metadata": {},
   "outputs": [],
   "source": [
    "# vars to keep track of user friends for whom we have no rating data \n",
    "# (keeping track of those friends we exclude)\n",
    "count1 = 0\n",
    "count2 = 0\n",
    "count3 = 0\n",
    "count4 = 0\n",
    "noNeighborInfo1 = 0\n",
    "noNeighborInfo2 = 0\n",
    "noNeighborInfo3 = 0\n",
    "noNeighborInfo4 = 0\n",
    "\n",
    "def neighborsAverageRating(userIdNode):\n",
    "    # returns average rating of a user's friends\n",
    "    \n",
    "    global count1\n",
    "    global noNeighborInfo1\n",
    "    count1+=1\n",
    "    totalAvStarSum = 0\n",
    "    totalPeople = 0\n",
    "    \n",
    "    # get the user's friends \n",
    "    if userIdNode in yelpinho:\n",
    "        listNeighbors = list(nx.all_neighbors(yelpinho,userIdNode))\n",
    "        numNeighbors = len(listNeighbors)\n",
    "        for neighborId in listNeighbors:\n",
    "            try: # computing neighbor averages\n",
    "                testNodeAttributes = nx.get_node_attributes(yelpinho,\"Reviews\")[neighborId] \n",
    "                if len(testNodeAttributes) > 0 :\n",
    "                    sumOfStarsNeighbor = testNodeAttributes['stars'].sum()\n",
    "                    sumOfNumReviews = len(testNodeAttributes['stars']) \n",
    "                    avStarNeighbor = sumOfStarsNeighbor/sumOfNumReviews \n",
    "                    totalAvStarSum+=avStarNeighbor\n",
    "                    totalPeople+=1\n",
    "            except KeyError:\n",
    "                # if we do not have rating data on friend\n",
    "                print(\"function 1, count = \"+str(count1)+\": user: \"+userIdNode +\", friendId: \"+ neighborId)\n",
    "                noNeighborInfo1 +=1\n",
    "                print(\"No Neighbor count: \"+str(noNeighborInfo1))\n",
    "        av = totalAvStarSum/totalPeople\n",
    "        return (av,numNeighbors)\n",
    "    else:\n",
    "        return (np.NAN,numNeighbors)\n",
    "    \n",
    "def neighborsWeightedAverageRating(userIdNode):\n",
    "    # returns weighted average rating of a user's friends\n",
    "\n",
    "    global count2\n",
    "    global noNeighborInfo2\n",
    "    count2+=1\n",
    "    totalStarSum = 0\n",
    "    totalReviews = 0\n",
    "    \n",
    "    # get the user's friends \n",
    "    if userIdNode in yelpinho:\n",
    "        listNeighbors = list(nx.all_neighbors(yelpinho,userIdNode))\n",
    "        numNeighbors = len(listNeighbors)\n",
    "        for neighborId in listNeighbors:\n",
    "            try: # computing neighbor weighted averages\n",
    "                testNodeAttributes = nx.get_node_attributes(yelpinho,\"Reviews\")[neighborId]\n",
    "                if len(testNodeAttributes) > 0 :\n",
    "                    totalStarSum += testNodeAttributes['stars'].sum()\n",
    "                    totalReviews += len(testNodeAttributes['stars']) \n",
    "            except KeyError:\n",
    "                # if we do not have rating data on friend\n",
    "                print(\"function 2, count = \"+str(count2)+\": user: \"+userIdNode +\", friendId: \"+ neighborId)\n",
    "                noNeighborInfo2 +=1\n",
    "                print(\"No Neighbor count: \"+str(noNeighborInfo2))\n",
    "        if totalReviews > 0:\n",
    "            avRating = totalStarSum/totalReviews\n",
    "            return (avRating,numNeighbors)\n",
    "    else:\n",
    "        return (np.NAN,numNeighbors)\n",
    "    \n",
    "\n",
    "def neighborsAverageRatingByBusinessCategory(tupleUserIdCat):\n",
    "    # returns average rating of a user's friends pertaining to a certain business category\n",
    "\n",
    "    global count3\n",
    "    global noNeighborInfo3\n",
    "    count3+=1\n",
    "    userIdNode = tupleUserIdCat[0]\n",
    "    busLatCat = tupleUserIdCat[1]\n",
    "    totalAvStarSum = 0\n",
    "    totalPeople = 0\n",
    "    \n",
    "    # get the user's friends \n",
    "    if userIdNode in yelpinho:\n",
    "        listNeighbors = list(nx.all_neighbors(yelpinho,userIdNode))\n",
    "        numNeighbors = len(listNeighbors)\n",
    "        for neighborId in listNeighbors:\n",
    "            try: # computing neighbor averages by business category\n",
    "                testNodeAttributes = nx.get_node_attributes(yelpinho,\"Reviews\")[neighborId] \n",
    "                if busLatCat in testNodeAttributes['businessLatentCategory'].values:\n",
    "                    busCatSumOfStarsNeighbor = testNodeAttributes.groupby(\"businessLatentCategory\").get_group(busLatCat)['stars'].agg(\"sum\")\n",
    "                    busCatSumOfNumReviews = len(testNodeAttributes.groupby(\"businessLatentCategory\").get_group(busLatCat)['stars'])\n",
    "                    busLatCatStarsMean = busCatSumOfStarsNeighbor/busCatSumOfNumReviews\n",
    "                    totalAvStarSum+=busLatCatStarsMean\n",
    "                    totalPeople+=1\n",
    "            except KeyError:\n",
    "                # if we do not have rating data on friend\n",
    "                print(\"function 3, count = \"+str(count3)+\": user: \"+userIdNode +\", friendId: \"+ neighborId)\n",
    "                noNeighborInfo3 +=1\n",
    "                print(\"No Neighbor count: \"+str(noNeighborInfo3))\n",
    "        if totalPeople > 0:\n",
    "            av = totalAvStarSum/totalPeople\n",
    "            return (av,numNeighbors)\n",
    "    else:\n",
    "        return (np.NAN,numNeighbors)\n",
    "    \n",
    "def neighborsWeightedAverageRatingByBusinessCategory(tupleUserIdCat):\n",
    "    # returns weighted average rating of a user's friends pertaining \n",
    "    # to a certain business category\n",
    "\n",
    "    global count4\n",
    "    global noNeighborInfo4\n",
    "    count4+=1\n",
    "    userIdNode = tupleUserIdCat[0]\n",
    "    busLatCat = tupleUserIdCat[1]\n",
    "    totalStarSum = 0\n",
    "    totalReviews = 0\n",
    "    \n",
    "    # get the user's friends\n",
    "    if userIdNode in yelpinho:\n",
    "        listNeighbors = list(nx.all_neighbors(yelpinho,userIdNode))\n",
    "        numNeighbors = len(listNeighbors)\n",
    "        for neighborId in listNeighbors:\n",
    "            try: # computing neighbor weighted averages by business category\n",
    "                testNodeAttributes = nx.get_node_attributes(yelpinho,\"Reviews\")[neighborId] \n",
    "                if busLatCat in testNodeAttributes['businessLatentCategory'].values:\n",
    "                    totalStarSum += testNodeAttributes.groupby(\"businessLatentCategory\").get_group(busLatCat)['stars'].agg(\"sum\")\n",
    "                    totalReviews += len(testNodeAttributes.groupby(\"businessLatentCategory\").get_group(busLatCat)['stars'])\n",
    "            except KeyError:\n",
    "                # if we do not have rating data on friend\n",
    "                print(\"function 4, count = \"+str(count4)+\": user: \"+userIdNode +\", friendId: \"+ neighborId)\n",
    "                noNeighborInfo4 +=1\n",
    "                print(\"No Neighbor count: \"+str(noNeighborInfo4))\n",
    "\n",
    "        if totalReviews > 0:\n",
    "            avRating = totalStarSum/totalReviews\n",
    "            return (avRating,numNeighbors)\n",
    "    else:\n",
    "        return (np.NAN,numNeighbors) "
   ]
  },
  {
   "cell_type": "code",
   "execution_count": 29,
   "metadata": {},
   "outputs": [],
   "source": [
    "# need to improve parallelization!!\n",
    "\n",
    "def ratingAverages_UserFriends(LIST): \n",
    "    # computing all averages above for all users in yelpinho\n",
    "    List = LIST[0]\n",
    "    whichCSV = LIST[2]\n",
    "    if LIST[1] == 1: \n",
    "        csvfile = ''\n",
    "        if whichCSV == 'first':\n",
    "            csvfile = '1_first.csv'\n",
    "        elif whichCSV == 'second':\n",
    "            csvfile = '1_second.csv'\n",
    "        with open(csvfile, 'a') as newFile:\n",
    "            newFileWriter = csv.writer(newFile)\n",
    "            for i in range(len(List)):\n",
    "                locDic1 = {}\n",
    "                locDic1[List[i]] = (neighborsAverageRating(List[i]))\n",
    "                print(locDic1)\n",
    "                newFileWriter.writerow([List[i], locDic1[List[i]]]) \n",
    "        return {}\n",
    "    \n",
    "    if LIST[1] == 2: \n",
    "        csvfile = ''\n",
    "        if whichCSV == 'first':\n",
    "            csvfile = '2_first.csv'\n",
    "        elif whichCSV == 'second':\n",
    "            csvfile = '2_second.csv'\n",
    "        with open(csvfile, 'a') as newFile:\n",
    "            newFileWriter = csv.writer(newFile)\n",
    "            for i in range(len(List)):\n",
    "                locDic2 = {}\n",
    "                locDic2[List[i]] = (neighborsWeightedAverageRating(List[i]))\n",
    "                print(locDic2)\n",
    "                newFileWriter.writerow([List[i], locDic2[List[i]]]) \n",
    "        return {}\n",
    "    \n",
    "    if LIST[1] == 3: \n",
    "        csvfile = ''\n",
    "        if whichCSV == 'first':\n",
    "            csvfile = '3_first.csv'\n",
    "        elif whichCSV == 'second':\n",
    "            csvfile = '3_second.csv'\n",
    "        with open(csvfile, 'a') as newFile:\n",
    "            newFileWriter = csv.writer(newFile)\n",
    "            for i in range(len(List)):\n",
    "                locDic3 = {}\n",
    "                locDic3[List[i]] = (neighborsAverageRatingByBusinessCategory(List[i]))\n",
    "                print(locDic3)\n",
    "                newFileWriter.writerow([List[i], locDic3[List[i]]]) \n",
    "        return {}\n",
    "    \n",
    "    if LIST[1] == 4: \n",
    "        csvfile = ''\n",
    "        if whichCSV == 'first':\n",
    "            csvfile = '4_first.csv'\n",
    "        elif whichCSV == 'second':\n",
    "            csvfile = '4_second.csv'\n",
    "        with open(csvfile, 'a') as newFile:\n",
    "            newFileWriter = csv.writer(newFile)\n",
    "            for i in range(len(List)):\n",
    "                locDic4 = {}\n",
    "                locDic4[List[i]] = (neighborsWeightedAverageRatingByBusinessCategory(List[i]))\n",
    "                print(locDic4)\n",
    "                newFileWriter.writerow([List[i], locDic4[List[i]]]) \n",
    "        return {}"
   ]
  },
  {
   "cell_type": "code",
   "execution_count": null,
   "metadata": {},
   "outputs": [],
   "source": [
    "# NEED TO IMPROVE PARALLELIZATION OF TASKS (first attempt)\n",
    "def f(arg):\n",
    "    return ratingAverages_UserFriends(arg)\n",
    "\n",
    "pool=Pool(processes=8)\n",
    "\n",
    "listOfDicts = pool.map(f, [(ListOfUSERS[0:379868],1,\"first\"),\\\n",
    "                                (ListOfUSERS[379868:len(ListOfUSERS)],1,\"second\"),\\\n",
    "                                (ListOfUSERS[0:379868],2,\"first\"),\\\n",
    "                                (ListOfUSERS[379868:len(ListOfUSERS)],2,\"second\"),\\\n",
    "                                (userLatentCats_List[0:770514],3,\"first\"),\\\n",
    "                                (userLatentCats_List[770514:len(userLatentCats_List)],3,\"second\"),\\\n",
    "                                (userLatentCats_List[0:770514],4,\"first\"),\\\n",
    "                                (userLatentCats_List[770514:len(userLatentCats_List)],4,\"second\")])\n",
    "\n"
   ]
  }
 ],
 "metadata": {
  "kernelspec": {
   "display_name": "Python 3",
   "language": "python",
   "name": "python3"
  },
  "language_info": {
   "codemirror_mode": {
    "name": "ipython",
    "version": 3
   },
   "file_extension": ".py",
   "mimetype": "text/x-python",
   "name": "python",
   "nbconvert_exporter": "python",
   "pygments_lexer": "ipython3",
   "version": "3.6.4"
  }
 },
 "nbformat": 4,
 "nbformat_minor": 2
}
