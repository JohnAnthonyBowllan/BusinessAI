{
 "cells": [
  {
   "cell_type": "code",
   "execution_count": 1,
   "metadata": {},
   "outputs": [],
   "source": [
    "import pandas as pd \n",
    "import numpy as np\n",
    "import matplotlib as mpl\n",
    "import matplotlib.pyplot as plt\n",
    "import json  \n",
    "import networkx as nx\n",
    "import csv\n",
    "from multiprocessing import Pool"
   ]
  },
  {
   "cell_type": "markdown",
   "metadata": {},
   "source": [
    "### Prepping user and review datasets for assortativity and node neighbor computations for our friend networks"
   ]
  },
  {
   "cell_type": "code",
   "execution_count": 2,
   "metadata": {},
   "outputs": [],
   "source": [
    "# load and manipulate user data\n",
    "\n",
    "Yelp_Users = pd.read_json('YelpDataset/user.json',lines=True) # read in user dataset\n",
    "Yelp_Users['number of friends'] = Yelp_Users['friends'].apply(len) # get number of friends\n",
    "df_usersNarrow = Yelp_Users[Yelp_Users['number of friends']>0] # sifting dataset to people who have at least one friend\n",
    "df_usersNarrow = df_usersNarrow[['user_id','friends','number of friends']]"
   ]
  },
  {
   "cell_type": "code",
   "execution_count": 3,
   "metadata": {},
   "outputs": [
    {
     "name": "stderr",
     "output_type": "stream",
     "text": [
      "/opt/condaenvs/jupyterhub/lib/python3.6/site-packages/IPython/core/interactiveshell.py:2785: DtypeWarning: Columns (0,2) have mixed types. Specify dtype option on import or set low_memory=False.\n",
      "  interactivity=interactivity, compiler=compiler, result=result)\n"
     ]
    }
   ],
   "source": [
    "# load in review data with latent business categories associated to each business\n",
    "\n",
    "Yelp_ReviewsWithLatCats = pd.read_csv(\"Yelp_ReviewsWITHLATENTCATEGORIES.csv\")\n",
    "Yelp_ReviewsWithLatCats = Yelp_ReviewsWithLatCats[['business_id',\\\n",
    "                                                   'review_id','user_id','stars',\\\n",
    "                                                   'businessLatentCategory']]\n",
    "Yelp_ReviewsWithLatCats = Yelp_ReviewsWithLatCats.dropna()"
   ]
  },
  {
   "cell_type": "code",
   "execution_count": 6,
   "metadata": {},
   "outputs": [
    {
     "name": "stdout",
     "output_type": "stream",
     "text": [
      "1325415\n",
      "760008\n"
     ]
    }
   ],
   "source": [
    "# users in reviews dataset\n",
    "reviewsGroupBy = Yelp_ReviewsWithLatCats.groupby(\"user_id\")\n",
    "Reviews_setOfUserIds = set(list(reviewsGroupBy.groups.keys()))\n",
    "print(len(Reviews_setOfUserIds))\n",
    "\n",
    "# users in users dataset where users have at least one friend\n",
    "Users_setOfUserIds = set(df_usersNarrow['user_id'])\n",
    "print(len(Users_setOfUserIds)) "
   ]
  },
  {
   "cell_type": "code",
   "execution_count": 7,
   "metadata": {},
   "outputs": [],
   "source": [
    "# Only want reviews of users with at least one friend!\n",
    "Yelp_ReviewsWithLatCats = Yelp_ReviewsWithLatCats[Yelp_ReviewsWithLatCats['user_id'].isin(Users_setOfUserIds)]\n",
    "\n",
    "# group by users and business latent categories\n",
    "groupbyUSERandCAT = Yelp_ReviewsWithLatCats.groupby(['user_id','businessLatentCategory'])\n",
    "userLatentCats_List = list(groupbyUSERandCAT.groups) "
   ]
  },
  {
   "cell_type": "code",
   "execution_count": 11,
   "metadata": {},
   "outputs": [],
   "source": [
    "# Getting list of users who wrote reviews (and creating dictionary for having reviews\n",
    "# as node attributes)\n",
    "YelpReviews_Users = Yelp_ReviewsWithLatCats.groupby('user_id')\n",
    "Yelp_ReviewsUserDict = {g: d for g, d in YelpReviews_Users}\n",
    "ListOfUSERS = list(YelpReviews_Users.groups)"
   ]
  },
  {
   "cell_type": "code",
   "execution_count": null,
   "metadata": {},
   "outputs": [],
   "source": []
  },
  {
   "cell_type": "code",
   "execution_count": 7,
   "metadata": {},
   "outputs": [],
   "source": [
    "# Reading in edge lists for larger and smaller friend networks\n",
    "BigYelp = nx.read_edgelist(\"BigYelpEdgeList.txt\")\n",
    "yelpino = nx.read_edgelist(\"YelpinoEdgeList.txt\")"
   ]
  },
  {
   "cell_type": "code",
   "execution_count": null,
   "metadata": {},
   "outputs": [],
   "source": [
    "# ASSORTATIVITY BASED ON STAR AVERAGE"
   ]
  },
  {
   "cell_type": "code",
   "execution_count": 47,
   "metadata": {},
   "outputs": [],
   "source": [
    "ratingMean = Yelp_ReviewsWithLatCats.groupby(\"user_id\").agg(\"mean\")"
   ]
  },
  {
   "cell_type": "code",
   "execution_count": 73,
   "metadata": {},
   "outputs": [],
   "source": [
    "ratingMeanDict = dict(zip(ratingMean.index,ratingMean.stars))"
   ]
  },
  {
   "cell_type": "code",
   "execution_count": 76,
   "metadata": {},
   "outputs": [],
   "source": [
    "nx.set_node_attributes(yelpino, ratingMeanDict, \"AverageStar\")"
   ]
  },
  {
   "cell_type": "code",
   "execution_count": 77,
   "metadata": {},
   "outputs": [
    {
     "data": {
      "text/plain": [
       "0.027079046453203907"
      ]
     },
     "execution_count": 77,
     "metadata": {},
     "output_type": "execute_result"
    }
   ],
   "source": [
    "nx.attribute_assortativity_coefficient(yelpino,\"AverageStar\")"
   ]
  },
  {
   "cell_type": "code",
   "execution_count": null,
   "metadata": {},
   "outputs": [],
   "source": [
    "# ASSORTATIVITY BASED ON REVIEW COUNT"
   ]
  },
  {
   "cell_type": "code",
   "execution_count": 90,
   "metadata": {},
   "outputs": [],
   "source": [
    "revCountSeries = Yelp_ReviewsWithLatCats.groupby(\"user_id\").size()"
   ]
  },
  {
   "cell_type": "code",
   "execution_count": 91,
   "metadata": {},
   "outputs": [],
   "source": [
    "revCountSeriesDict = revCountSeries.to_dict()"
   ]
  },
  {
   "cell_type": "code",
   "execution_count": 95,
   "metadata": {},
   "outputs": [],
   "source": [
    "nx.set_node_attributes(yelpino, reviewsRevCountSeriesDict, \"ReviewCount\")"
   ]
  },
  {
   "cell_type": "code",
   "execution_count": 96,
   "metadata": {
    "scrolled": true
   },
   "outputs": [
    {
     "data": {
      "text/plain": [
       "0.026268943031893734"
      ]
     },
     "execution_count": 96,
     "metadata": {},
     "output_type": "execute_result"
    }
   ],
   "source": [
    "nx.attribute_assortativity_coefficient(yelpino,\"ReviewCount\")"
   ]
  },
  {
   "cell_type": "code",
   "execution_count": null,
   "metadata": {},
   "outputs": [],
   "source": [
    "## PREPPING ASSORTATIVITY BASED ON CATEGORY AVERAGE RATINGS"
   ]
  },
  {
   "cell_type": "code",
   "execution_count": 99,
   "metadata": {},
   "outputs": [],
   "source": [
    "busLatCatsList = list(Yelp_ReviewsWithLatCats['businessLatentCategory'].unique())"
   ]
  },
  {
   "cell_type": "code",
   "execution_count": 120,
   "metadata": {},
   "outputs": [
    {
     "name": "stdout",
     "output_type": "stream",
     "text": [
      "Bars\n",
      "Done Bars\n",
      "Restaurants\n",
      "Done Restaurants\n",
      "Fashion\n",
      "Done Fashion\n",
      "Beauty & Spas\n",
      "Done Beauty & Spas\n",
      "Pubs\n",
      "Done Pubs\n",
      "Active Life\n",
      "Done Active Life\n",
      "Cosmetics & Beauty Supply\n",
      "Done Cosmetics & Beauty Supply\n",
      "Home & Garden\n",
      "Done Home & Garden\n",
      "Sports Clubs\n",
      "Done Sports Clubs\n",
      "Used\n",
      "Done Used\n",
      "Preschools\n",
      "Done Preschools\n",
      "Financial Services\n",
      "Done Financial Services\n",
      "Hair Removal\n",
      "Done Hair Removal\n",
      "Oil Change Stations\n",
      "Done Oil Change Stations\n",
      "Home Cleaning\n",
      "Done Home Cleaning\n"
     ]
    }
   ],
   "source": [
    "siftedReviewDfsList = []\n",
    "siftedListDicts = []\n",
    "siftedListEnthusDicts = []\n",
    "for latentCat in busLatCatsList:\n",
    "    siftedDf = Yelp_ReviewsWithLatCats[Yelp_ReviewsWithLatCats['businessLatentCategory'] == latentCat]\n",
    "    siftedReviewDfsList.append((latentCat,siftedDf))\n",
    "    print(latentCat)\n",
    "    SiftedAggStarMean = siftedDf.groupby(\"user_id\").agg(\"mean\")\n",
    "    SiftedAggStarMeanDict = dict(zip(SiftedAggStarMean.index,SiftedAggStarMean.stars))\n",
    "    siftedListDicts.append((latentCat,SiftedAggStarMeanDict))\n",
    "    \n",
    "    \n",
    "    SiftedRevCountSeries = siftedDf.groupby(\"user_id\").size()\n",
    "    SiftedRevCountSeriesDict = SiftedRevCountSeries.to_dict()\n",
    "    \n",
    "    enthusiasmByCatDict = {k: SiftedRevCountSeriesDict[k]*SiftedAggStarMeanDict[k] for k in SiftedAggStarMeanDict}\n",
    "    \n",
    "    siftedListEnthusDicts.append((latentCat,enthusiasmByCatDict))\n",
    "    \n",
    "    print(\"Done \"+latentCat)"
   ]
  },
  {
   "cell_type": "code",
   "execution_count": 16,
   "metadata": {},
   "outputs": [],
   "source": []
  },
  {
   "cell_type": "code",
   "execution_count": 122,
   "metadata": {},
   "outputs": [],
   "source": [
    "for latentCatDictTuple in siftedListDicts:\n",
    "    latentCategory = latentCatDictTuple[0]\n",
    "    localDict = latentCatDictTuple[1]\n",
    "    nx.set_node_attributes(yelpino, localDict, latentCategory)"
   ]
  },
  {
   "cell_type": "code",
   "execution_count": 115,
   "metadata": {},
   "outputs": [
    {
     "name": "stdout",
     "output_type": "stream",
     "text": [
      "Bars assortativity: 0.02708162228366847\n",
      "Restaurants assortativity: 0.0403651435345962\n",
      "Fashion assortativity: 0.07108086867204101\n",
      "Beauty & Spas assortativity: 0.08342029331960416\n",
      "Pubs assortativity: 0.06724732150377787\n",
      "Active Life assortativity: 0.09773029468230386\n",
      "Cosmetics & Beauty Supply assortativity: 0.05674868615639566\n",
      "Home & Garden assortativity: 0.09314802793194313\n",
      "Sports Clubs assortativity: 0.07849327460664403\n",
      "Used assortativity: 0.0690736806092073\n",
      "Preschools assortativity: 0.0457145961510417\n",
      "Financial Services assortativity: 0.0531528655192846\n",
      "Hair Removal assortativity: 0.09022263489582312\n",
      "Oil Change Stations assortativity: 0.04593194437626429\n",
      "Home Cleaning assortativity: 0.06490892747692766\n"
     ]
    }
   ],
   "source": [
    "for latCat in busLatCatsList:\n",
    "    print(latCat + \" assortativity: \"+str(nx.attribute_assortativity_coefficient(yelpino,latCat)))"
   ]
  },
  {
   "cell_type": "code",
   "execution_count": 123,
   "metadata": {},
   "outputs": [
    {
     "name": "stdout",
     "output_type": "stream",
     "text": [
      "Bars_enthusiasm\n",
      "Restaurants_enthusiasm\n",
      "Fashion_enthusiasm\n",
      "Beauty & Spas_enthusiasm\n",
      "Pubs_enthusiasm\n",
      "Active Life_enthusiasm\n",
      "Cosmetics & Beauty Supply_enthusiasm\n",
      "Home & Garden_enthusiasm\n",
      "Sports Clubs_enthusiasm\n",
      "Used_enthusiasm\n",
      "Preschools_enthusiasm\n",
      "Financial Services_enthusiasm\n",
      "Hair Removal_enthusiasm\n",
      "Oil Change Stations_enthusiasm\n",
      "Home Cleaning_enthusiasm\n"
     ]
    }
   ],
   "source": [
    "for latentCatDictEnthusTuple in siftedListEnthusDicts:\n",
    "    latentCategory = latentCatDictEnthusTuple[0] + \"_enthusiasm\"\n",
    "    print(latentCategory)\n",
    "    localDict = latentCatDictEnthusTuple[1]\n",
    "    nx.set_node_attributes(yelpino, localDict, latentCategory)"
   ]
  },
  {
   "cell_type": "code",
   "execution_count": 124,
   "metadata": {},
   "outputs": [
    {
     "name": "stdout",
     "output_type": "stream",
     "text": [
      "Bars_enthusiasm enthusiasm assortativity: 0.02192287124656674\n",
      "Restaurants_enthusiasm enthusiasm assortativity: 0.03627511539814643\n",
      "Fashion_enthusiasm enthusiasm assortativity: 0.06788735870720426\n",
      "Beauty & Spas_enthusiasm enthusiasm assortativity: 0.07471112694138975\n",
      "Pubs_enthusiasm enthusiasm assortativity: 0.06441924516203301\n",
      "Active Life_enthusiasm enthusiasm assortativity: 0.09242651536644597\n",
      "Cosmetics & Beauty Supply_enthusiasm enthusiasm assortativity: 0.053342333502640206\n",
      "Home & Garden_enthusiasm enthusiasm assortativity: 0.08746606430984903\n",
      "Sports Clubs_enthusiasm enthusiasm assortativity: 0.07440785056301338\n",
      "Used_enthusiasm enthusiasm assortativity: 0.06531539563115533\n",
      "Preschools_enthusiasm enthusiasm assortativity: 0.04274641169593429\n",
      "Financial Services_enthusiasm enthusiasm assortativity: 0.04954848219294601\n",
      "Hair Removal_enthusiasm enthusiasm assortativity: 0.08188676823559288\n",
      "Oil Change Stations_enthusiasm enthusiasm assortativity: 0.04361531503715075\n",
      "Home Cleaning_enthusiasm enthusiasm assortativity: 0.05737269650528514\n"
     ]
    }
   ],
   "source": [
    "for latCat in busLatCatsList:\n",
    "    latCat = latCat+\"_enthusiasm\"\n",
    "    print(latCat + \" enthusiasm assortativity: \"+str(nx.attribute_assortativity_coefficient(yelpino,latCat)))"
   ]
  },
  {
   "cell_type": "code",
   "execution_count": 8,
   "metadata": {},
   "outputs": [],
   "source": [
    "smallDegreeDict = dict(yelpino.degree())"
   ]
  },
  {
   "cell_type": "code",
   "execution_count": 16,
   "metadata": {},
   "outputs": [
    {
     "data": {
      "text/plain": [
       "3"
      ]
     },
     "execution_count": 16,
     "metadata": {},
     "output_type": "execute_result"
    }
   ],
   "source": [
    "smallDegreeDict['--2HUmLkcNHZp0xw6AMBPg']"
   ]
  },
  {
   "cell_type": "code",
   "execution_count": 17,
   "metadata": {},
   "outputs": [],
   "source": [
    "largeDegreeDict = dict(BigYelp.degree())"
   ]
  },
  {
   "cell_type": "code",
   "execution_count": 19,
   "metadata": {},
   "outputs": [
    {
     "data": {
      "text/plain": [
       "58"
      ]
     },
     "execution_count": 19,
     "metadata": {},
     "output_type": "execute_result"
    }
   ],
   "source": [
    "largeDegreeDict['--2HUmLkcNHZp0xw6AMBPg']"
   ]
  },
  {
   "cell_type": "code",
   "execution_count": 31,
   "metadata": {},
   "outputs": [],
   "source": [
    "dfDegrees = pd.DataFrame.from_dict(smallDegreeDict,orient = 'index',columns = ['SmallYelp'])"
   ]
  },
  {
   "cell_type": "code",
   "execution_count": 47,
   "metadata": {},
   "outputs": [],
   "source": [
    "dfDegrees['index1'] = dfDegrees.index"
   ]
  },
  {
   "cell_type": "code",
   "execution_count": 54,
   "metadata": {},
   "outputs": [
    {
     "data": {
      "text/html": [
       "<div>\n",
       "<style scoped>\n",
       "    .dataframe tbody tr th:only-of-type {\n",
       "        vertical-align: middle;\n",
       "    }\n",
       "\n",
       "    .dataframe tbody tr th {\n",
       "        vertical-align: top;\n",
       "    }\n",
       "\n",
       "    .dataframe thead th {\n",
       "        text-align: right;\n",
       "    }\n",
       "</style>\n",
       "<table border=\"1\" class=\"dataframe\">\n",
       "  <thead>\n",
       "    <tr style=\"text-align: right;\">\n",
       "      <th></th>\n",
       "      <th>SmallYelp</th>\n",
       "      <th>index1</th>\n",
       "    </tr>\n",
       "  </thead>\n",
       "  <tbody>\n",
       "    <tr>\n",
       "      <th>oMy_rEb0UBEmMlu-zcxnoQ</th>\n",
       "      <td>2</td>\n",
       "      <td>oMy_rEb0UBEmMlu-zcxnoQ</td>\n",
       "    </tr>\n",
       "    <tr>\n",
       "      <th>cvVMmlU1ouS3I5fhutaryQ</th>\n",
       "      <td>18</td>\n",
       "      <td>cvVMmlU1ouS3I5fhutaryQ</td>\n",
       "    </tr>\n",
       "    <tr>\n",
       "      <th>nj6UZ8tdGo8YJ9lUMTVWNw</th>\n",
       "      <td>7</td>\n",
       "      <td>nj6UZ8tdGo8YJ9lUMTVWNw</td>\n",
       "    </tr>\n",
       "    <tr>\n",
       "      <th>JJ-aSuM4pCFPdkfoZ34q0Q</th>\n",
       "      <td>27</td>\n",
       "      <td>JJ-aSuM4pCFPdkfoZ34q0Q</td>\n",
       "    </tr>\n",
       "    <tr>\n",
       "      <th>HVUAmApa0fCbHHVJ0ALshw</th>\n",
       "      <td>29</td>\n",
       "      <td>HVUAmApa0fCbHHVJ0ALshw</td>\n",
       "    </tr>\n",
       "  </tbody>\n",
       "</table>\n",
       "</div>"
      ],
      "text/plain": [
       "                        SmallYelp                  index1\n",
       "oMy_rEb0UBEmMlu-zcxnoQ          2  oMy_rEb0UBEmMlu-zcxnoQ\n",
       "cvVMmlU1ouS3I5fhutaryQ         18  cvVMmlU1ouS3I5fhutaryQ\n",
       "nj6UZ8tdGo8YJ9lUMTVWNw          7  nj6UZ8tdGo8YJ9lUMTVWNw\n",
       "JJ-aSuM4pCFPdkfoZ34q0Q         27  JJ-aSuM4pCFPdkfoZ34q0Q\n",
       "HVUAmApa0fCbHHVJ0ALshw         29  HVUAmApa0fCbHHVJ0ALshw"
      ]
     },
     "execution_count": 54,
     "metadata": {},
     "output_type": "execute_result"
    }
   ],
   "source": [
    "dfDegrees.head()"
   ]
  },
  {
   "cell_type": "code",
   "execution_count": 55,
   "metadata": {},
   "outputs": [],
   "source": [
    "dfDegrees['BigYelp'] = dfDegrees['index1'].apply(lambda ID: largeDegreeDict[ID])"
   ]
  },
  {
   "cell_type": "code",
   "execution_count": 59,
   "metadata": {},
   "outputs": [
    {
     "data": {
      "text/plain": [
       "0.8685414501447632"
      ]
     },
     "execution_count": 59,
     "metadata": {},
     "output_type": "execute_result"
    }
   ],
   "source": [
    "dfDegrees['SmallYelp'].corr(dfDegrees['BigYelp'], method = 'pearson')"
   ]
  },
  {
   "cell_type": "code",
   "execution_count": 58,
   "metadata": {},
   "outputs": [
    {
     "data": {
      "text/plain": [
       "0.772002464623897"
      ]
     },
     "execution_count": 58,
     "metadata": {},
     "output_type": "execute_result"
    }
   ],
   "source": [
    "dfDegrees['SmallYelp'].corr(dfDegrees['BigYelp'],method = 'spearman')"
   ]
  },
  {
   "cell_type": "code",
   "execution_count": 28,
   "metadata": {},
   "outputs": [],
   "source": [
    "count1 = 0\n",
    "count2 = 0\n",
    "count3 = 0\n",
    "count4 = 0\n",
    "noNeighborInfo1 = 0\n",
    "noNeighborInfo2 = 0\n",
    "noNeighborInfo3 = 0\n",
    "noNeighborInfo4 = 0\n",
    "\n",
    "def neighborsAverageRating(userIdNode):\n",
    "    global count1\n",
    "    global noNeighborInfo1\n",
    "    count1+=1\n",
    "    userIdInQuestion = userIdNode\n",
    "    totalAvStarSum = 0\n",
    "    totalPeople = 0\n",
    "    if count1 %2 == 0:\n",
    "        print(\"1CountPerc: \"+str(count1/10))\n",
    "        # OVER 379868\n",
    "    if userIdInQuestion in yelpino:\n",
    "        listNeighbors = list(nx.all_neighbors(yelpino,userIdInQuestion))\n",
    "        numNeighbors = len(listNeighbors)\n",
    "        for neighborId in listNeighbors:\n",
    "            try:\n",
    "                testNodeAttributes = nx.get_node_attributes(yelpino,\"Reviews\")[neighborId] # get dataframe for neighbor\n",
    "                if len(testNodeAttributes) > 0 :\n",
    "                    sumOfStarsNeighbor = testNodeAttributes['stars'].sum()\n",
    "                    sumOfNumReviews = len(testNodeAttributes['stars']) \n",
    "                    avStarNeighbor = sumOfStarsNeighbor/sumOfNumReviews \n",
    "                    totalAvStarSum+=avStarNeighbor\n",
    "                    totalPeople+=1\n",
    "            except KeyError:\n",
    "                print(\"function 1, count = \"+str(count1)+\": user: \"+userIdInQuestion +\", friendId: \"+ neighborId)\n",
    "                noNeighborInfo1 +=1\n",
    "                print(\"No Neighbor count: \"+str(noNeighborInfo1))\n",
    "        av = totalAvStarSum/totalPeople\n",
    "        return (av,numNeighbors)\n",
    "    else:\n",
    "        return (np.NAN,numNeighbors)\n",
    "    \n",
    "def neighborsWeightedAverageRating(userIdNode):\n",
    "    global count2\n",
    "    global noNeighborInfo2\n",
    "    count2+=1\n",
    "    userIdInQuestion = userIdNode\n",
    "    totalStarSum = 0\n",
    "    totalReviews = 0\n",
    "    if count2 %2 == 0:\n",
    "        print(\"2CountPerc: \"+str(count2/10))\n",
    "        # OVER 379868\n",
    "    if userIdInQuestion in yelpino:\n",
    "        listNeighbors = list(nx.all_neighbors(yelpino,userIdInQuestion))\n",
    "        numNeighbors = len(listNeighbors)\n",
    "        for neighborId in listNeighbors:\n",
    "            try:\n",
    "                testNodeAttributes = nx.get_node_attributes(yelpino,\"Reviews\")[neighborId] # get dataframe for neighbor\n",
    "                if len(testNodeAttributes) > 0 :\n",
    "                    totalStarSum += testNodeAttributes['stars'].sum()\n",
    "                    totalReviews += len(testNodeAttributes['stars']) \n",
    "            except KeyError:\n",
    "                print(\"function 2, count = \"+str(count2)+\": user: \"+userIdInQuestion +\", friendId: \"+ neighborId)\n",
    "                noNeighborInfo2 +=1\n",
    "                print(\"No Neighbor count: \"+str(noNeighborInfo2))\n",
    "        if totalReviews > 0:\n",
    "            avRating = totalStarSum/totalReviews\n",
    "            return (avRating,numNeighbors)\n",
    "    else:\n",
    "        return (np.NAN,numNeighbors)\n",
    "    \n",
    "\n",
    "def neighborsAverageRatingByBusinessCategory(tupleUserIdCat):\n",
    "    global count3\n",
    "    global noNeighborInfo3\n",
    "    count3+=1\n",
    "    userIdInQuestion = tupleUserIdCat[0]\n",
    "    busLatCat = tupleUserIdCat[1]\n",
    "    totalAvStarSum = 0\n",
    "    totalPeople = 0\n",
    "    if count3 %2 == 0:\n",
    "        print(\"3CountPerc: \"+str(count3/10))\n",
    "        #770514\n",
    "    if userIdInQuestion in yelpino:\n",
    "        print(\"3: \" + str(userIdInQuestion))\n",
    "        listNeighbors = list(nx.all_neighbors(yelpino,userIdInQuestion))\n",
    "        numNeighbors = len(listNeighbors)\n",
    "        for neighborId in listNeighbors:\n",
    "            try:\n",
    "                testNodeAttributes = nx.get_node_attributes(yelpino,\"Reviews\")[neighborId] # get dataframe for neighbor\n",
    "                if busLatCat in testNodeAttributes['businessLatentCategory'].values:\n",
    "                    busCatSumOfStarsNeighbor = testNodeAttributes.groupby(\"businessLatentCategory\").get_group(busLatCat)['stars'].agg(\"sum\")\n",
    "                    busCatSumOfNumReviews = len(testNodeAttributes.groupby(\"businessLatentCategory\").get_group(busLatCat)['stars'])\n",
    "                    busLatCatStarsMean = busCatSumOfStarsNeighbor/busCatSumOfNumReviews\n",
    "                    totalAvStarSum+=busLatCatStarsMean\n",
    "                    totalPeople+=1\n",
    "            except KeyError:\n",
    "                print(\"function 3, count = \"+str(count3)+\": user: \"+userIdInQuestion +\", friendId: \"+ neighborId)\n",
    "                noNeighborInfo3 +=1\n",
    "                print(\"No Neighbor count: \"+str(noNeighborInfo3))\n",
    "        if totalPeople > 0:\n",
    "            av = totalAvStarSum/totalPeople\n",
    "            return (av,numNeighbors)\n",
    "    else:\n",
    "        return (np.NAN,numNeighbors)\n",
    "    \n",
    "def neighborsWeightedAverageRatingByBusinessCategory(tupleUserIdCat):\n",
    "    global count4\n",
    "    global noNeighborInfo4\n",
    "    count4+=1\n",
    "    userIdInQuestion = tupleUserIdCat[0]\n",
    "    busLatCat = tupleUserIdCat[1]\n",
    "    totalStarSum = 0\n",
    "    totalReviews = 0\n",
    "    if count4 %2 == 0:\n",
    "        print(\"4CountPerc: \"+str(count4/10))\n",
    "        #OVER 770514\n",
    "    if userIdInQuestion in yelpino:\n",
    "        print(\"4: \" + str(userIdInQuestion))\n",
    "        listNeighbors = list(nx.all_neighbors(yelpino,userIdInQuestion))\n",
    "        numNeighbors = len(listNeighbors)\n",
    "        for neighborId in listNeighbors:\n",
    "            try:\n",
    "                testNodeAttributes = nx.get_node_attributes(yelpino,\"Reviews\")[neighborId] # get dataframe for neighbor\n",
    "                if busLatCat in testNodeAttributes['businessLatentCategory'].values:\n",
    "                    totalStarSum += testNodeAttributes.groupby(\"businessLatentCategory\").get_group(busLatCat)['stars'].agg(\"sum\")\n",
    "                    totalReviews += len(testNodeAttributes.groupby(\"businessLatentCategory\").get_group(busLatCat)['stars'])\n",
    "            except KeyError:\n",
    "                print(\"function 4, count = \"+str(count4)+\": user: \"+userIdInQuestion +\", friendId: \"+ neighborId)\n",
    "                noNeighborInfo4 +=1\n",
    "                print(\"No Neighbor count: \"+str(noNeighborInfo4))\n",
    "\n",
    "        if totalReviews > 0:\n",
    "            avRating = totalStarSum/totalReviews\n",
    "            return (avRating,numNeighbors)\n",
    "    else:\n",
    "        return (np.NAN,numNeighbors) \n",
    "\n",
    "    \n",
    "\n",
    "\n",
    "\n",
    "\n",
    "\n",
    "\n"
   ]
  },
  {
   "cell_type": "code",
   "execution_count": 29,
   "metadata": {},
   "outputs": [],
   "source": [
    "def testFunction(LIST): \n",
    "    List = LIST[0]\n",
    "    whichCSV = LIST[2]\n",
    "    if LIST[1] == 1: \n",
    "        csvfile = ''\n",
    "        if whichCSV == 'first':\n",
    "            csvfile = '1_first.csv'\n",
    "        elif whichCSV == 'second':\n",
    "            csvfile = '1_second.csv'\n",
    "        with open(csvfile, 'a') as newFile:\n",
    "            newFileWriter = csv.writer(newFile)\n",
    "            for i in range(len(List)):\n",
    "                locDic1 = {}\n",
    "                locDic1[List[i]] = (neighborsAverageRating(List[i]))\n",
    "                print(locDic1)\n",
    "                newFileWriter.writerow([List[i], locDic1[List[i]]]) \n",
    "        return {}\n",
    "    \n",
    "    if LIST[1] == 2: \n",
    "        csvfile = ''\n",
    "        if whichCSV == 'first':\n",
    "            csvfile = '2_first.csv'\n",
    "        elif whichCSV == 'second':\n",
    "            csvfile = '2_second.csv'\n",
    "        with open(csvfile, 'a') as newFile:\n",
    "            newFileWriter = csv.writer(newFile)\n",
    "            for i in range(len(List)):\n",
    "                locDic2 = {}\n",
    "                locDic2[List[i]] = (neighborsWeightedAverageRating(List[i]))\n",
    "                print(locDic2)\n",
    "                newFileWriter.writerow([List[i], locDic2[List[i]]]) \n",
    "        return {}\n",
    "    \n",
    "    if LIST[1] == 3: \n",
    "        csvfile = ''\n",
    "        if whichCSV == 'first':\n",
    "            csvfile = '3_first.csv'\n",
    "        elif whichCSV == 'second':\n",
    "            csvfile = '3_second.csv'\n",
    "        with open(csvfile, 'a') as newFile:\n",
    "            newFileWriter = csv.writer(newFile)\n",
    "            for i in range(len(List)):\n",
    "                locDic3 = {}\n",
    "                locDic3[List[i]] = (neighborsAverageRatingByBusinessCategory(List[i]))\n",
    "                print(locDic3)\n",
    "                newFileWriter.writerow([List[i], locDic3[List[i]]]) \n",
    "        return {}\n",
    "    \n",
    "    if LIST[1] == 4: \n",
    "        csvfile = ''\n",
    "        if whichCSV == 'first':\n",
    "            csvfile = '4_first.csv'\n",
    "        elif whichCSV == 'second':\n",
    "            csvfile = '4_second.csv'\n",
    "        with open(csvfile, 'a') as newFile:\n",
    "            newFileWriter = csv.writer(newFile)\n",
    "            for i in range(len(List)):\n",
    "                locDic4 = {}\n",
    "                locDic4[List[i]] = (neighborsWeightedAverageRatingByBusinessCategory(List[i]))\n",
    "                print(locDic4)\n",
    "                newFileWriter.writerow([List[i], locDic4[List[i]]]) \n",
    "        return {}\n"
   ]
  },
  {
   "cell_type": "code",
   "execution_count": null,
   "metadata": {},
   "outputs": [],
   "source": [
    "# NEED TO IMPROVE PARALLELIZATION OF TASKS\n",
    "def f(arg):\n",
    "    return testFunction(arg)\n",
    "\n",
    "pool=Pool(processes=8)\n",
    "\n",
    "listOfDicts = pool.map(f, [(ListOfUSERS[0:379868],1,\"first\"),\\\n",
    "                                (ListOfUSERS[379868:len(ListOfUSERS)],1,\"second\"),\\\n",
    "                                (ListOfUSERS[0:379868],2,\"first\"),\\\n",
    "                                (ListOfUSERS[379868:len(ListOfUSERS)],2,\"second\"),\\\n",
    "                                (userLatentCats_List[0:770514],3,\"first\"),\\\n",
    "                                (userLatentCats_List[770514:len(userLatentCats_List)],3,\"second\"),\\\n",
    "                                (userLatentCats_List[0:770514],4,\"first\"),\\\n",
    "                                (userLatentCats_List[770514:len(userLatentCats_List)],4,\"second\")])\n",
    "\n"
   ]
  }
 ],
 "metadata": {
  "kernelspec": {
   "display_name": "Python 3",
   "language": "python",
   "name": "python3"
  },
  "language_info": {
   "codemirror_mode": {
    "name": "ipython",
    "version": 3
   },
   "file_extension": ".py",
   "mimetype": "text/x-python",
   "name": "python",
   "nbconvert_exporter": "python",
   "pygments_lexer": "ipython3",
   "version": "3.6.4"
  }
 },
 "nbformat": 4,
 "nbformat_minor": 2
}
