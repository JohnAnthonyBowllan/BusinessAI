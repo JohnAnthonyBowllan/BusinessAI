{
 "cells": [
  {
   "cell_type": "markdown",
   "metadata": {},
   "source": [
    "## Motivating Info/Questions\n",
    "- We have two friendship networks (YelpFriendsBig and yelpinho). Yelpinho is a subnetwork of YelpFriendsBig and contains all users for which we have data.\n",
    "- Can we make analyze yelpinho, a much smaller network, and make the same insights on the larger friendship network?\n",
    "\n",
    "## Goals\n",
    "- Our goal is to use yelpinho, a subnetwork, to make insights on YelpFriendsBig. To make these insights, we must verify two criteria: the structure of both networks are the same and the spearman rank correlation.\n"
   ]
  },
  {
   "cell_type": "code",
   "execution_count": 1,
   "metadata": {},
   "outputs": [],
   "source": [
    "import powerlaw\n",
    "import pandas as pd \n",
    "import numpy as np\n",
    "import matplotlib as mpl\n",
    "import matplotlib.pyplot as plt\n",
    "import scipy as sp\n",
    "import json  \n",
    "import networkx as nx"
   ]
  },
  {
   "cell_type": "code",
   "execution_count": 2,
   "metadata": {},
   "outputs": [],
   "source": [
    "yelpinho = nx.read_edgelist(\"friendsSubNetworkEdges_InfoAvailable.txt\")"
   ]
  },
  {
   "cell_type": "code",
   "execution_count": 6,
   "metadata": {},
   "outputs": [],
   "source": [
    "YelpFriendsBig = nx.read_edgelist(\"friendsFullNetworkEdges_PartialInfoAvailable.txt\")"
   ]
  },
  {
   "cell_type": "code",
   "execution_count": 7,
   "metadata": {},
   "outputs": [
    {
     "data": {
      "text/plain": [
       "False"
      ]
     },
     "execution_count": 7,
     "metadata": {},
     "output_type": "execute_result"
    }
   ],
   "source": [
    "YelpFriendsBig.is_directed()"
   ]
  },
  {
   "cell_type": "code",
   "execution_count": 6,
   "metadata": {},
   "outputs": [],
   "source": [
    "# various degree comparisons \n",
    "def fitCompare(myFit):\n",
    "    print ('power_law Vs exponential: ', myFit.distribution_compare('power_law', 'exponential'))\n",
    "    print ('power_law Vs truncated_power_law:  ', myFit.distribution_compare('power_law', 'truncated_power_law'))\n",
    "    print ('power_law Vs stretched_exponential:  ', myFit.distribution_compare('power_law', 'stretched_exponential'))\n",
    "    print ('truncated_power_law Vs exponential:  ', myFit.distribution_compare('truncated_power_law', 'exponential' ))\n",
    "    print ('truncated_power_law Vs stretched_exponential:  ', myFit.distribution_compare('truncated_power_law', 'stretched_exponential'))\n",
    "    print ('exponential Vs stretched_exponential:  ', myFit.distribution_compare('exponential', 'stretched_exponential'))"
   ]
  },
  {
   "cell_type": "code",
   "execution_count": 7,
   "metadata": {},
   "outputs": [
    {
     "data": {
      "image/png": "[encoded data removed]",
      "text/plain": [
       "<Figure size 432x288 with 1 Axes>"
      ]
     },
     "metadata": {},
     "output_type": "display_data"
    }
   ],
   "source": [
    "# degree distribution of YelpFriendsBig\n",
    "\n",
    "deg = YelpFriendsBig.degree\n",
    "x1= [d[1] for d in list(deg)]\n",
    "YelpFriendsBig.size()\n",
    "y = 800\n",
    "fig, ax = plt.subplots()\n",
    "ax.set_facecolor('xkcd:white')\n",
    "plt.xlabel(\"Degree of node\")\n",
    "plt.ylabel(\"Number of nodes\")\n",
    "plt.hist(x1, bins = 800, facecolor = 'red',log=True)\n",
    "plt.tight_layout()\n",
    "plt.show()\n",
    "fig.savefig('DegreeDistLargerGRAPH.jpg')"
   ]
  },
  {
   "cell_type": "code",
   "execution_count": 8,
   "metadata": {},
   "outputs": [
    {
     "name": "stderr",
     "output_type": "stream",
     "text": [
      "Calculating best minimal value for power law fit\n",
      "/home/jbowllan/anaconda3/lib/python3.6/site-packages/powerlaw.py:697: RuntimeWarning: invalid value encountered in true_divide\n",
      "  (Theoretical_CDF * (1 - Theoretical_CDF))\n"
     ]
    },
    {
     "name": "stdout",
     "output_type": "stream",
     "text": [
      "power_law Vs exponential:  (892.3033113349079, 5.786461669738009e-59)\n"
     ]
    },
    {
     "name": "stderr",
     "output_type": "stream",
     "text": [
      "Assuming nested distributions\n"
     ]
    },
    {
     "name": "stdout",
     "output_type": "stream",
     "text": [
      "power_law Vs truncated_power_law:   (-4.329514689707876, 0.00325444606037395)\n",
      "power_law Vs stretched_exponential:   (14.41870730328058, 0.011933454357250455)\n",
      "truncated_power_law Vs exponential:   (896.6328260246017, 7.240605491392539e-63)\n",
      "truncated_power_law Vs stretched_exponential:   (18.74822199298894, 5.061594785693643e-06)\n",
      "exponential Vs stretched_exponential:   (-877.884604031632, 0.0)\n"
     ]
    },
    {
     "name": "stderr",
     "output_type": "stream",
     "text": [
      "Assuming nested distributions\n"
     ]
    }
   ],
   "source": [
    "# distribution comparisons for YelpFriendsBig\n",
    "\n",
    "fit1 = powerlaw.Fit(x1, discrete=False)\n",
    "fitCompare(fit1)"
   ]
  },
  {
   "cell_type": "code",
   "execution_count": 9,
   "metadata": {},
   "outputs": [
    {
     "name": "stderr",
     "output_type": "stream",
     "text": [
      "No handles with labels found to put in legend.\n"
     ]
    },
    {
     "data": {
      "image/png": "[encoded data removed]",
      "text/plain": [
       "<Figure size 432x288 with 1 Axes>"
      ]
     },
     "metadata": {},
     "output_type": "display_data"
    }
   ],
   "source": [
    "# degree distribution of yelpinho\n",
    "\n",
    "deg2 = yelpinho.degree\n",
    "x2= [d[1] for d in list(deg2)]\n",
    "# x = deg\n",
    "y = 800\n",
    "fig, ax = plt.subplots()\n",
    "ax.set_facecolor('xkcd:white')\n",
    "plt.xlabel(\"Degree of node\")\n",
    "plt.ylabel(\"Number of nodes\")\n",
    "plt.title(\"\")\n",
    "plt.hist(x2, bins = 800, facecolor = 'red',log=True)\n",
    "plt.legend(loc = 'best', frameon = False)\n",
    "\n",
    "plt.tight_layout()\n",
    "plt.show()\n",
    "fig.savefig('DegreeDistSUBGRAPH.jpg')"
   ]
  },
  {
   "cell_type": "code",
   "execution_count": 10,
   "metadata": {},
   "outputs": [
    {
     "name": "stderr",
     "output_type": "stream",
     "text": [
      "Calculating best minimal value for power law fit\n",
      "/home/jbowllan/anaconda3/lib/python3.6/site-packages/powerlaw.py:697: RuntimeWarning: invalid value encountered in true_divide\n",
      "  (Theoretical_CDF * (1 - Theoretical_CDF))\n"
     ]
    },
    {
     "name": "stdout",
     "output_type": "stream",
     "text": [
      "power_law Vs exponential:  (744.1210149037037, 5.481031493766175e-46)\n"
     ]
    },
    {
     "name": "stderr",
     "output_type": "stream",
     "text": [
      "Assuming nested distributions\n"
     ]
    },
    {
     "name": "stdout",
     "output_type": "stream",
     "text": [
      "power_law Vs truncated_power_law:   (-43.6305747796969, 0.0)\n",
      "power_law Vs stretched_exponential:   (-32.37405676318039, 2.5589344907941544e-07)\n",
      "truncated_power_law Vs exponential:   (787.7515896834242, 4.091731069825498e-63)\n",
      "truncated_power_law Vs stretched_exponential:   (11.256518016516962, 3.669761819048249e-15)\n",
      "exponential Vs stretched_exponential:   (-776.4950716668733, 0.0)\n"
     ]
    },
    {
     "name": "stderr",
     "output_type": "stream",
     "text": [
      "Assuming nested distributions\n"
     ]
    }
   ],
   "source": [
    "# distribution comparisons for yelpinho\n",
    "\n",
    "fit2 = powerlaw.Fit(x2, discrete=False)\n",
    "fitCompare(fit2)"
   ]
  },
  {
   "cell_type": "code",
   "execution_count": 21,
   "metadata": {},
   "outputs": [
    {
     "name": "stderr",
     "output_type": "stream",
     "text": [
      "/home/jbowllan/anaconda3/lib/python3.6/site-packages/matplotlib/axes/_base.py:3449: UserWarning: Attempted to set non-positive ylimits for log-scale axis; invalid limits will be ignored.\n",
      "  'Attempted to set non-positive ylimits for log-scale axis; '\n"
     ]
    },
    {
     "data": {
      "image/png": "[encoded data removed]",
      "text/plain": [
       "<Figure size 432x288 with 1 Axes>"
      ]
     },
     "metadata": {},
     "output_type": "display_data"
    }
   ],
   "source": [
    "# degree distributions for YelpFriendsBig and yelpinho on same graph\n",
    "\n",
    "deg = YelpFriendsBig.degree\n",
    "deg2 = yelpinho.degree\n",
    "\n",
    "x1= [d[1] for d in list(deg)]\n",
    "x2= [d[1] for d in list(deg2)]\n",
    "y = 800\n",
    "\n",
    "fig, ax = plt.subplots()\n",
    "\n",
    "\n",
    "ax.set_facecolor('xkcd:white')\n",
    "plt.xlabel(\"Degree of node\")\n",
    "plt.ylabel(\"Number of nodes\")\n",
    "plt.hist(x1, bins = 800, facecolor = 'red',log=True)\n",
    "plt.hist(x2, bins = 800, facecolor = 'blue',log=True)\n",
    "ax.set_xlim([0, 6500])\n",
    "ax.set_ylim([0, 10**6])\n",
    "legend = ['Big Yelp Network', 'Yelpinho Network']\n",
    "plt.legend(legend)\n",
    "plt.tight_layout()\n",
    "plt.title(\"Yelp Friendship Networks Degree Distributions\")\n",
    "plt.savefig('TechReportFigures/FriendDegreeDistributions/FriendDegreeDistributions.png',format=\"png\")\n",
    "plt.savefig('TechReportFigures/FriendDegreeDistributions/FriendDegreeDistributions.svg',format=\"svg\")\n",
    "plt.savefig('TechReportFigures/FriendDegreeDistributions/FriendDegreeDistributions.jpg',format=\"jpg\")\n",
    "plt.show()\n",
    "\n"
   ]
  },
  {
   "cell_type": "code",
   "execution_count": 1,
   "metadata": {},
   "outputs": [],
   "source": [
    "#spearman rank correlation appears in paper"
   ]
  }
 ],
 "metadata": {
  "kernelspec": {
   "display_name": "Python 3",
   "language": "python",
   "name": "python3"
  },
  "language_info": {
   "codemirror_mode": {
    "name": "ipython",
    "version": 3
   },
   "file_extension": ".py",
   "mimetype": "text/x-python",
   "name": "python",
   "nbconvert_exporter": "python",
   "pygments_lexer": "ipython3",
   "version": "3.6.4"
  }
 },
 "nbformat": 4,
 "nbformat_minor": 2
}
