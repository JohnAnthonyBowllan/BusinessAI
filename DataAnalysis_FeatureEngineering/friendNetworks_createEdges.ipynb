{
 "cells": [
  {
   "cell_type": "markdown",
   "metadata": {},
   "source": [
    "## Making Edge Lists for Yelp Friendship Networks\n",
    "### Relevant information: \n",
    "- Provided user and his/her/their friends. However, only a fraction of a user's friends will be in the dataset, which makes sense since, if each user's friend was in our dataset, we would most likely recover Yelp's entire network, which is not practical for public datasets used in hackathons etc. So we are creating \n",
    "  - (1) a larger friendship network using each user and each friend \n",
    "  - (2) a subnetwork using each user and each friend that is also a user in the dataset"
   ]
  },
  {
   "cell_type": "code",
   "execution_count": 1,
   "metadata": {},
   "outputs": [],
   "source": [
    "import collections\n",
    "import pandas as pd \n",
    "import numpy as np\n",
    "import json  "
   ]
  },
  {
   "cell_type": "code",
   "execution_count": 2,
   "metadata": {},
   "outputs": [],
   "source": [
    "# reading in user dataset and sifting dataset to users who have at least one friend\n",
    "\n",
    "Yelp_Users = pd.read_json('YelpDataset/user.json',lines=True) \n",
    "Yelp_Users['number of friends'] = Yelp_Users['friends'].apply(len) \n",
    "df_usersNarrow = Yelp_Users[Yelp_Users['number of friends']>0] \n",
    "df_usersNarrow = df_usersNarrow[['user_id','friends','number of friends']]"
   ]
  },
  {
   "cell_type": "code",
   "execution_count": 24,
   "metadata": {},
   "outputs": [],
   "source": [
    "file_edges1 = \"BigYelpEdgeList.txt\"\n",
    "\n",
    "count1 = 0\n",
    "holder1 = []\n",
    "\n",
    "with open(file_edges1,\"w\") as f:\n",
    "    for row in df_usersNarrow.iterrows(): #\n",
    "        for friend in row[1]['friends']:  \n",
    "            count1+=1\n",
    "            holder1.append(str(row[1][\"user_id\"]) +\" \"+ str(friend)+ \"\\n\")\n",
    "            if count1%1000 ==0:\n",
    "                f.writelines([\"%s\" % item  for item in holder1])\n",
    "                holder1 = []\n",
    "f.close()"
   ]
  },
  {
   "cell_type": "code",
   "execution_count": 18,
   "metadata": {},
   "outputs": [],
   "source": [
    "file_edges2 = \"YelpinoEdgeList.txt\"\n",
    "\n",
    "count2 = 0\n",
    "holder2 = []\n",
    "\n",
    "with open(file_edges2,\"w\") as f:\n",
    "    for row in df_usersNarrow.iterrows(): #\n",
    "        for friend in row[1]['friends']:\n",
    "            if friend in df_usersNarrowSet:  # set lookup is much much much more efficient than repeated DataFrame lookup\n",
    "                count2+=1\n",
    "                holder2.append(str(row[1][\"user_id\"]) +\" \"+ str(friend)+ \"\\n\")\n",
    "                # f.write(str(row[1][\"user_id\"]) +\" \"+ str(friend)+ \"\\n\")\n",
    "            else:\n",
    "                continue\n",
    "            if count2%1000 ==0:\n",
    "                f.writelines([\"%s\" % item  for item in holder2])\n",
    "                holder2 = []\n",
    "f.close()\n"
   ]
  }
 ],
 "metadata": {
  "kernelspec": {
   "display_name": "Python 3",
   "language": "python",
   "name": "python3"
  },
  "language_info": {
   "codemirror_mode": {
    "name": "ipython",
    "version": 3
   },
   "file_extension": ".py",
   "mimetype": "text/x-python",
   "name": "python",
   "nbconvert_exporter": "python",
   "pygments_lexer": "ipython3",
   "version": "3.6.4"
  }
 },
 "nbformat": 4,
 "nbformat_minor": 2
}
