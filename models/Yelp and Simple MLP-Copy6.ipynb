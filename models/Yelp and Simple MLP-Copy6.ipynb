{
 "cells": [
  {
   "cell_type": "markdown",
   "metadata": {},
   "source": [
    "# Yelp and Simple MLP"
   ]
  },
  {
   "cell_type": "markdown",
   "metadata": {},
   "source": [
    "### Read in CSV"
   ]
  },
  {
   "cell_type": "code",
   "execution_count": 1,
   "metadata": {},
   "outputs": [
    {
     "name": "stderr",
     "output_type": "stream",
     "text": [
      "/home/kcozart/anaconda3/lib/python3.6/site-packages/h5py/__init__.py:36: FutureWarning: Conversion of the second argument of issubdtype from `float` to `np.floating` is deprecated. In future, it will be treated as `np.float64 == np.dtype(float).type`.\n",
      "  from ._conv import register_converters as _register_converters\n",
      "Using TensorFlow backend.\n"
     ]
    }
   ],
   "source": [
    "import pandas as pd\n",
    "import numpy as np\n",
    "import keras\n",
    "import tensorflow as tf\n",
    "\n",
    "from keras.models import Sequential\n",
    "from keras.layers.core import Dense, Activation, Dropout\n",
    "from keras.utils import np_utils"
   ]
  },
  {
   "cell_type": "code",
   "execution_count": 2,
   "metadata": {},
   "outputs": [],
   "source": [
    "session_conf = tf.ConfigProto(\n",
    "      intra_op_parallelism_threads=1,\n",
    "      inter_op_parallelism_threads=1)\n",
    "sess = tf.Session(config=session_conf)"
   ]
  },
  {
   "cell_type": "code",
   "execution_count": 3,
   "metadata": {},
   "outputs": [],
   "source": [
    "df = pd.read_csv('binary2.csv')"
   ]
  },
  {
   "cell_type": "code",
   "execution_count": 4,
   "metadata": {},
   "outputs": [
    {
     "data": {
      "text/html": [
       "<div>\n",
       "<style scoped>\n",
       "    .dataframe tbody tr th:only-of-type {\n",
       "        vertical-align: middle;\n",
       "    }\n",
       "\n",
       "    .dataframe tbody tr th {\n",
       "        vertical-align: top;\n",
       "    }\n",
       "\n",
       "    .dataframe thead th {\n",
       "        text-align: right;\n",
       "    }\n",
       "</style>\n",
       "<table border=\"1\" class=\"dataframe\">\n",
       "  <thead>\n",
       "    <tr style=\"text-align: right;\">\n",
       "      <th></th>\n",
       "      <th>stars</th>\n",
       "      <th>name_of_month</th>\n",
       "      <th>day_of_week</th>\n",
       "      <th>user_average_stars</th>\n",
       "      <th>user_cool</th>\n",
       "      <th>user_funny</th>\n",
       "      <th>user_userful</th>\n",
       "      <th>user_num_reviews</th>\n",
       "      <th>user_num_friends</th>\n",
       "      <th>business_num_reviews</th>\n",
       "      <th>business_average_stars</th>\n",
       "      <th>business_catgry</th>\n",
       "    </tr>\n",
       "  </thead>\n",
       "  <tbody>\n",
       "    <tr>\n",
       "      <th>0</th>\n",
       "      <td>-0.660753</td>\n",
       "      <td>0.223540</td>\n",
       "      <td>-0.333416</td>\n",
       "      <td>0.098172</td>\n",
       "      <td>-0.001040</td>\n",
       "      <td>-0.000746</td>\n",
       "      <td>-0.001261</td>\n",
       "      <td>-0.006663</td>\n",
       "      <td>-0.007403</td>\n",
       "      <td>-0.013611</td>\n",
       "      <td>-0.182665</td>\n",
       "      <td>-0.245179</td>\n",
       "    </tr>\n",
       "    <tr>\n",
       "      <th>1</th>\n",
       "      <td>0.339247</td>\n",
       "      <td>0.496267</td>\n",
       "      <td>-0.166749</td>\n",
       "      <td>-0.226828</td>\n",
       "      <td>-0.001040</td>\n",
       "      <td>-0.000746</td>\n",
       "      <td>-0.001257</td>\n",
       "      <td>-0.008252</td>\n",
       "      <td>-0.006670</td>\n",
       "      <td>-0.043918</td>\n",
       "      <td>-0.057665</td>\n",
       "      <td>-0.182679</td>\n",
       "    </tr>\n",
       "    <tr>\n",
       "      <th>2</th>\n",
       "      <td>-0.660753</td>\n",
       "      <td>-0.231006</td>\n",
       "      <td>-0.500082</td>\n",
       "      <td>-0.124328</td>\n",
       "      <td>-0.001017</td>\n",
       "      <td>-0.000534</td>\n",
       "      <td>-0.001101</td>\n",
       "      <td>0.001702</td>\n",
       "      <td>-0.007070</td>\n",
       "      <td>0.000251</td>\n",
       "      <td>0.067335</td>\n",
       "      <td>-0.245179</td>\n",
       "    </tr>\n",
       "    <tr>\n",
       "      <th>3</th>\n",
       "      <td>0.339247</td>\n",
       "      <td>-0.140097</td>\n",
       "      <td>-0.333416</td>\n",
       "      <td>0.028172</td>\n",
       "      <td>-0.000136</td>\n",
       "      <td>0.000021</td>\n",
       "      <td>-0.000185</td>\n",
       "      <td>0.041354</td>\n",
       "      <td>0.019539</td>\n",
       "      <td>0.006911</td>\n",
       "      <td>0.192335</td>\n",
       "      <td>-0.245179</td>\n",
       "    </tr>\n",
       "  </tbody>\n",
       "</table>\n",
       "</div>"
      ],
      "text/plain": [
       "      stars  name_of_month  day_of_week  user_average_stars  user_cool  \\\n",
       "0 -0.660753       0.223540    -0.333416            0.098172  -0.001040   \n",
       "1  0.339247       0.496267    -0.166749           -0.226828  -0.001040   \n",
       "2 -0.660753      -0.231006    -0.500082           -0.124328  -0.001017   \n",
       "3  0.339247      -0.140097    -0.333416            0.028172  -0.000136   \n",
       "\n",
       "   user_funny  user_userful  user_num_reviews  user_num_friends  \\\n",
       "0   -0.000746     -0.001261         -0.006663         -0.007403   \n",
       "1   -0.000746     -0.001257         -0.008252         -0.006670   \n",
       "2   -0.000534     -0.001101          0.001702         -0.007070   \n",
       "3    0.000021     -0.000185          0.041354          0.019539   \n",
       "\n",
       "   business_num_reviews  business_average_stars  business_catgry  \n",
       "0             -0.013611               -0.182665        -0.245179  \n",
       "1             -0.043918               -0.057665        -0.182679  \n",
       "2              0.000251                0.067335        -0.245179  \n",
       "3              0.006911                0.192335        -0.245179  "
      ]
     },
     "execution_count": 4,
     "metadata": {},
     "output_type": "execute_result"
    }
   ],
   "source": [
    "df = df.drop(df.columns[df.columns.str.contains('unnamed', case = False)],axis = 1)\n",
    "df.head(4)"
   ]
  },
  {
   "cell_type": "markdown",
   "metadata": {},
   "source": [
    "### Split into Train and Test Data"
   ]
  },
  {
   "cell_type": "code",
   "execution_count": 5,
   "metadata": {},
   "outputs": [],
   "source": [
    "from sklearn.model_selection import train_test_split"
   ]
  },
  {
   "cell_type": "code",
   "execution_count": 6,
   "metadata": {},
   "outputs": [],
   "source": [
    "y = df.pop('stars')\n",
    "X = df"
   ]
  },
  {
   "cell_type": "code",
   "execution_count": 7,
   "metadata": {},
   "outputs": [],
   "source": [
    "X_train, X_test, y_train, y_test = train_test_split(X.index,y,test_size=0.20)"
   ]
  },
  {
   "cell_type": "code",
   "execution_count": 8,
   "metadata": {},
   "outputs": [
    {
     "name": "stdout",
     "output_type": "stream",
     "text": [
      "(4209335,)\n",
      "(1052334,)\n"
     ]
    }
   ],
   "source": [
    "print(X_train.shape)\n",
    "print(X_test.shape)"
   ]
  },
  {
   "cell_type": "code",
   "execution_count": 9,
   "metadata": {},
   "outputs": [
    {
     "name": "stdout",
     "output_type": "stream",
     "text": [
      "(4209335,)\n",
      "(1052334,)\n"
     ]
    }
   ],
   "source": [
    "print(y_train.shape)\n",
    "print(y_test.shape)"
   ]
  },
  {
   "cell_type": "code",
   "execution_count": 10,
   "metadata": {},
   "outputs": [
    {
     "name": "stdout",
     "output_type": "stream",
     "text": [
      "[[0. 1.]\n",
      " [0. 1.]]\n"
     ]
    }
   ],
   "source": [
    "# We need to get y sets to one-hot-encoded values\n",
    "def create_one_hot_encoded_array(array):\n",
    "    uniques, ids = np.unique(array, return_inverse=True)\n",
    "    return np_utils.to_categorical(ids, len(uniques))\n",
    "\n",
    "y_train = create_one_hot_encoded_array(y_train)\n",
    "y_test = create_one_hot_encoded_array(y_test)\n",
    "\n",
    "print(y_train[:2])"
   ]
  },
  {
   "cell_type": "code",
   "execution_count": 11,
   "metadata": {},
   "outputs": [
    {
     "name": "stdout",
     "output_type": "stream",
     "text": [
      "Int64Index([2314393, 4943771], dtype='int64')\n"
     ]
    }
   ],
   "source": [
    "print(X_train[:2])"
   ]
  },
  {
   "cell_type": "code",
   "execution_count": 12,
   "metadata": {},
   "outputs": [],
   "source": [
    "X_train = X.iloc[X_train]"
   ]
  },
  {
   "cell_type": "code",
   "execution_count": 13,
   "metadata": {},
   "outputs": [
    {
     "name": "stdout",
     "output_type": "stream",
     "text": [
      "         name_of_month  day_of_week  user_average_stars  user_cool  \\\n",
      "2314393       0.223540     0.499918            0.253172  -0.001031   \n",
      "4943771      -0.412824     0.166584           -0.086828  -0.000941   \n",
      "\n",
      "         user_funny  user_userful  user_num_reviews  user_num_friends  \\\n",
      "2314393   -0.000741     -0.001190         -0.009507         -0.006403   \n",
      "4943771   -0.000586     -0.000438          0.009148         -0.003469   \n",
      "\n",
      "         business_num_reviews  business_average_stars  business_catgry  \n",
      "2314393             -0.028425                0.067335        -0.245179  \n",
      "4943771              0.010037                0.067335        -0.245179  \n"
     ]
    }
   ],
   "source": [
    "print(X_train[:2])"
   ]
  },
  {
   "cell_type": "code",
   "execution_count": 14,
   "metadata": {},
   "outputs": [
    {
     "name": "stdout",
     "output_type": "stream",
     "text": [
      "<class 'pandas.core.frame.DataFrame'>\n"
     ]
    }
   ],
   "source": [
    "print(type(X_train))"
   ]
  },
  {
   "cell_type": "code",
   "execution_count": 15,
   "metadata": {},
   "outputs": [],
   "source": [
    "#X_train = X_train.values(columns=None)"
   ]
  },
  {
   "cell_type": "code",
   "execution_count": 16,
   "metadata": {},
   "outputs": [
    {
     "name": "stdout",
     "output_type": "stream",
     "text": [
      "(4209335, 11)\n"
     ]
    }
   ],
   "source": [
    "print(X_train.shape)"
   ]
  },
  {
   "cell_type": "code",
   "execution_count": 17,
   "metadata": {},
   "outputs": [
    {
     "name": "stdout",
     "output_type": "stream",
     "text": [
      "(4209335, 2)\n"
     ]
    }
   ],
   "source": [
    "print(y_train.shape)"
   ]
  },
  {
   "cell_type": "code",
   "execution_count": 18,
   "metadata": {},
   "outputs": [],
   "source": [
    "X_test = X.iloc[X_test]"
   ]
  },
  {
   "cell_type": "code",
   "execution_count": 19,
   "metadata": {},
   "outputs": [],
   "source": [
    "#X_test = X_test.values(columns=None)"
   ]
  },
  {
   "cell_type": "code",
   "execution_count": 20,
   "metadata": {},
   "outputs": [
    {
     "name": "stdout",
     "output_type": "stream",
     "text": [
      "(1052334, 11)\n"
     ]
    }
   ],
   "source": [
    "print(X_test.shape)"
   ]
  },
  {
   "cell_type": "code",
   "execution_count": 21,
   "metadata": {},
   "outputs": [
    {
     "name": "stdout",
     "output_type": "stream",
     "text": [
      "(1052334, 2)\n"
     ]
    }
   ],
   "source": [
    "print(y_test.shape)"
   ]
  },
  {
   "cell_type": "markdown",
   "metadata": {},
   "source": [
    "### Define Network"
   ]
  },
  {
   "cell_type": "code",
   "execution_count": 22,
   "metadata": {},
   "outputs": [],
   "source": [
    "model = Sequential()"
   ]
  },
  {
   "cell_type": "code",
   "execution_count": 23,
   "metadata": {},
   "outputs": [],
   "source": [
    "model.add(Dense(100, input_shape=(11,)))"
   ]
  },
  {
   "cell_type": "code",
   "execution_count": 24,
   "metadata": {},
   "outputs": [],
   "source": [
    "model.add(Activation('relu'))"
   ]
  },
  {
   "cell_type": "code",
   "execution_count": 25,
   "metadata": {},
   "outputs": [],
   "source": [
    "model.add(Dropout(0.05))"
   ]
  },
  {
   "cell_type": "code",
   "execution_count": 26,
   "metadata": {},
   "outputs": [],
   "source": [
    "model.add(Dense(100))"
   ]
  },
  {
   "cell_type": "code",
   "execution_count": 27,
   "metadata": {},
   "outputs": [],
   "source": [
    "model.add(Activation('relu'))"
   ]
  },
  {
   "cell_type": "code",
   "execution_count": 28,
   "metadata": {},
   "outputs": [],
   "source": [
    "model.add(Dropout(0.05))"
   ]
  },
  {
   "cell_type": "code",
   "execution_count": 29,
   "metadata": {},
   "outputs": [],
   "source": [
    "model.add(Dense(50))"
   ]
  },
  {
   "cell_type": "code",
   "execution_count": 30,
   "metadata": {},
   "outputs": [],
   "source": [
    "model.add(Activation('relu'))"
   ]
  },
  {
   "cell_type": "code",
   "execution_count": 31,
   "metadata": {},
   "outputs": [],
   "source": [
    "model.add(Dropout(0.05))"
   ]
  },
  {
   "cell_type": "code",
   "execution_count": 32,
   "metadata": {},
   "outputs": [],
   "source": [
    "model.add(Dense(2))"
   ]
  },
  {
   "cell_type": "code",
   "execution_count": 33,
   "metadata": {},
   "outputs": [],
   "source": [
    "model.add(Activation('softmax'))"
   ]
  },
  {
   "cell_type": "markdown",
   "metadata": {},
   "source": [
    "### Compile Network"
   ]
  },
  {
   "cell_type": "code",
   "execution_count": 34,
   "metadata": {},
   "outputs": [],
   "source": [
    "from keras import optimizers\n",
    "model.compile(loss='categorical_crossentropy', optimizer='adagrad', metrics=['accuracy'])"
   ]
  },
  {
   "cell_type": "markdown",
   "metadata": {},
   "source": [
    "### Fit Network"
   ]
  },
  {
   "cell_type": "code",
   "execution_count": 35,
   "metadata": {},
   "outputs": [
    {
     "name": "stdout",
     "output_type": "stream",
     "text": [
      "Train on 4209335 samples, validate on 1052334 samples\n",
      "Epoch 1/10\n",
      "4209335/4209335 [==============================] - 240s 57us/step - loss: 0.4538 - acc: 0.7759 - val_loss: 0.4494 - val_acc: 0.7779\n",
      "Epoch 2/10\n",
      "4209335/4209335 [==============================] - 238s 57us/step - loss: 0.4521 - acc: 0.7762 - val_loss: 0.4490 - val_acc: 0.7779\n",
      "Epoch 3/10\n",
      "4209335/4209335 [==============================] - 237s 56us/step - loss: 0.4517 - acc: 0.7763 - val_loss: 0.4489 - val_acc: 0.7780\n",
      "Epoch 4/10\n",
      "4209335/4209335 [==============================] - 224s 53us/step - loss: 0.4515 - acc: 0.7764 - val_loss: 0.4487 - val_acc: 0.7780\n",
      "Epoch 5/10\n",
      "4209335/4209335 [==============================] - 252s 60us/step - loss: 0.4513 - acc: 0.7764 - val_loss: 0.4488 - val_acc: 0.7780\n",
      "Epoch 6/10\n",
      "4209335/4209335 [==============================] - 225s 54us/step - loss: 0.4512 - acc: 0.7765 - val_loss: 0.4486 - val_acc: 0.7779\n",
      "Epoch 7/10\n",
      "4209335/4209335 [==============================] - 231s 55us/step - loss: 0.4511 - acc: 0.7764 - val_loss: 0.4486 - val_acc: 0.7780\n",
      "Epoch 8/10\n",
      "4209335/4209335 [==============================] - 236s 56us/step - loss: 0.4510 - acc: 0.7766 - val_loss: 0.4485 - val_acc: 0.7779\n",
      "Epoch 9/10\n",
      "4209335/4209335 [==============================] - 238s 56us/step - loss: 0.4510 - acc: 0.7766 - val_loss: 0.4486 - val_acc: 0.7780\n",
      "Epoch 10/10\n",
      "4209335/4209335 [==============================] - 205s 49us/step - loss: 0.4509 - acc: 0.7765 - val_loss: 0.4485 - val_acc: 0.7779\n"
     ]
    }
   ],
   "source": [
    "history = model.fit(X_train, y_train, \n",
    "          batch_size=50, epochs=10, verbose=1,\n",
    "          validation_data=(X_test, y_test)\n",
    "         )"
   ]
  },
  {
   "cell_type": "code",
   "execution_count": 36,
   "metadata": {},
   "outputs": [],
   "source": [
    "# from sklearn.metrics import classification_report\n",
    "\n",
    "# Y_test = np.argmax(y_test, axis=1) # Convert one-hot to index\n",
    "# y_pred = model.predict_classes(X_test)\n",
    "# print(classification_report(Y_test, y_pred))\n",
    "\n",
    "# Y_train = np.argmax(y_train, axis=1) # Convert one-hot to index\n",
    "# y_pred = model.predict_classes(X_train)\n",
    "# print(classification_report(Y_train, y_pred))"
   ]
  },
  {
   "cell_type": "code",
   "execution_count": 37,
   "metadata": {},
   "outputs": [
    {
     "data": {
      "text/plain": [
       "array([0, 1])"
      ]
     },
     "execution_count": 37,
     "metadata": {},
     "output_type": "execute_result"
    }
   ],
   "source": [
    "np.unique(model.predict_classes(X_train))"
   ]
  },
  {
   "cell_type": "code",
   "execution_count": 39,
   "metadata": {},
   "outputs": [
    {
     "data": {
      "image/png": "[encoded data removed]",
      "text/plain": [
       "<Figure size 432x288 with 1 Axes>"
      ]
     },
     "metadata": {},
     "output_type": "display_data"
    }
   ],
   "source": [
    "import matplotlib.pyplot as plt\n",
    "pd.Series(history.history['loss']).plot(logy=True)\n",
    "plt.xlabel(\"Epoch\")\n",
    "plt.ylabel(\"Train Error\")\n",
    "plt.savefig('Yelp_Simple_MLP_V1')\n",
    "plt.show()"
   ]
  }
 ],
 "metadata": {
  "kernelspec": {
   "display_name": "REU",
   "language": "python",
   "name": "reu"
  },
  "language_info": {
   "codemirror_mode": {
    "name": "ipython",
    "version": 3
   },
   "file_extension": ".py",
   "mimetype": "text/x-python",
   "name": "python",
   "nbconvert_exporter": "python",
   "pygments_lexer": "ipython3",
   "version": "3.6.5"
  }
 },
 "nbformat": 4,
 "nbformat_minor": 2
}
